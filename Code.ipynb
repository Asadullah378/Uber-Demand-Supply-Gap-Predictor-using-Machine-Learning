{
 "cells": [
  {
   "cell_type": "code",
   "execution_count": null,
   "metadata": {
    "id": "JuOhavOBffFe"
   },
   "outputs": [],
   "source": [
    "import numpy as np\n",
    "import pandas as pd\n",
    "import glob\n",
    "import math\n",
    "from sklearn.model_selection import train_test_split\n",
    "from datetime import datetime\n",
    "import matplotlib.pyplot as plt"
   ]
  },
  {
   "cell_type": "code",
   "execution_count": null,
   "metadata": {
    "colab": {
     "base_uri": "https://localhost:8080/"
    },
    "id": "qFJTKxDGhPFN",
    "outputId": "8b187ce3-fc88-452e-8103-174c8b4bb807"
   },
   "outputs": [
    {
     "name": "stdout",
     "output_type": "stream",
     "text": [
      "Reading File /content/drive/MyDrive/training_data/order_data/order_data_2016-01-02\n",
      "Reading File /content/drive/MyDrive/training_data/order_data/order_data_2016-01-05\n",
      "Reading File /content/drive/MyDrive/training_data/order_data/order_data_2016-01-03\n",
      "Reading File /content/drive/MyDrive/training_data/order_data/order_data_2016-01-04\n",
      "Reading File /content/drive/MyDrive/training_data/order_data/order_data_2016-01-01\n",
      "Reading File /content/drive/MyDrive/training_data/order_data/order_data_2016-01-16\n",
      "Reading File /content/drive/MyDrive/training_data/order_data/order_data_2016-01-14\n",
      "Reading File /content/drive/MyDrive/training_data/order_data/order_data_2016-01-07\n",
      "Reading File /content/drive/MyDrive/training_data/order_data/order_data_2016-01-11\n",
      "Reading File /content/drive/MyDrive/training_data/order_data/order_data_2016-01-17\n",
      "Reading File /content/drive/MyDrive/training_data/order_data/order_data_2016-01-10\n",
      "Reading File /content/drive/MyDrive/training_data/order_data/order_data_2016-01-09\n",
      "Reading File /content/drive/MyDrive/training_data/order_data/order_data_2016-01-15\n",
      "Reading File /content/drive/MyDrive/training_data/order_data/order_data_2016-01-08\n",
      "Reading File /content/drive/MyDrive/training_data/order_data/order_data_2016-01-13\n",
      "Reading File /content/drive/MyDrive/training_data/order_data/order_data_2016-01-12\n",
      "Reading File /content/drive/MyDrive/training_data/order_data/order_data_2016-01-06\n",
      "Reading File /content/drive/MyDrive/training_data/order_data/order_data_2016-01-21\n",
      "Reading File /content/drive/MyDrive/training_data/order_data/order_data_2016-01-18\n",
      "Reading File /content/drive/MyDrive/training_data/order_data/order_data_2016-01-20\n",
      "Reading File /content/drive/MyDrive/training_data/order_data/order_data_2016-01-19\n",
      "Merging....\n",
      "Orders Data Sucessfully Read!!!\n"
     ]
    }
   ],
   "source": [
    "# Reading Orders Data for 3 Weeks\n",
    "files = glob.glob(\"/content/drive/MyDrive/training_data/order_data/*\")\n",
    "li = []\n",
    "\n",
    "for f in files:\n",
    "    print(f'Reading File {f}')\n",
    "    df = pd.read_csv(f, delim_whitespace=True, header=None)\n",
    "    li.append(df)\n",
    "    \n",
    "# Merging Orders to Single Order File\n",
    "print('Merging....')\n",
    "orders_data = pd.concat(li, axis=0, ignore_index=True)\n",
    "orders_data.columns = ['order_id','driver_id','passenger_id','start_region_hash','dest_region_hash','Price','Date','Time']\n",
    "print('Orders Data Sucessfully Read!!!')"
   ]
  },
  {
   "cell_type": "code",
   "execution_count": null,
   "metadata": {
    "colab": {
     "base_uri": "https://localhost:8080/"
    },
    "id": "AB4LtBwfmC1p",
    "outputId": "9e356d12-ca01-48ff-9db5-4710525af09e"
   },
   "outputs": [
    {
     "name": "stdout",
     "output_type": "stream",
     "text": [
      "Reading File /content/drive/MyDrive/training_data/weather_data/weather_data_2016-01-05\n",
      "Reading File /content/drive/MyDrive/training_data/weather_data/weather_data_2016-01-17\n",
      "Reading File /content/drive/MyDrive/training_data/weather_data/weather_data_2016-01-09\n",
      "Reading File /content/drive/MyDrive/training_data/weather_data/weather_data_2016-01-04\n",
      "Reading File /content/drive/MyDrive/training_data/weather_data/weather_data_2016-01-20\n",
      "Reading File /content/drive/MyDrive/training_data/weather_data/weather_data_2016-01-03\n",
      "Reading File /content/drive/MyDrive/training_data/weather_data/weather_data_2016-01-18\n",
      "Reading File /content/drive/MyDrive/training_data/weather_data/weather_data_2016-01-02\n",
      "Reading File /content/drive/MyDrive/training_data/weather_data/weather_data_2016-01-08\n",
      "Reading File /content/drive/MyDrive/training_data/weather_data/weather_data_2016-01-14\n",
      "Reading File /content/drive/MyDrive/training_data/weather_data/weather_data_2016-01-10\n",
      "Reading File /content/drive/MyDrive/training_data/weather_data/weather_data_2016-01-16\n",
      "Reading File /content/drive/MyDrive/training_data/weather_data/weather_data_2016-01-07\n",
      "Reading File /content/drive/MyDrive/training_data/weather_data/weather_data_2016-01-11\n",
      "Reading File /content/drive/MyDrive/training_data/weather_data/weather_data_2016-01-01\n",
      "Reading File /content/drive/MyDrive/training_data/weather_data/weather_data_2016-01-19\n",
      "Reading File /content/drive/MyDrive/training_data/weather_data/weather_data_2016-01-13\n",
      "Reading File /content/drive/MyDrive/training_data/weather_data/weather_data_2016-01-21\n",
      "Reading File /content/drive/MyDrive/training_data/weather_data/weather_data_2016-01-12\n",
      "Reading File /content/drive/MyDrive/training_data/weather_data/weather_data_2016-01-06\n",
      "Reading File /content/drive/MyDrive/training_data/weather_data/weather_data_2016-01-15\n",
      "Merging....\n",
      "Weather Data Sucessfully Read!!!\n"
     ]
    }
   ],
   "source": [
    "# Reading Weathers Data for 3 Weeks\n",
    "files = glob.glob(\"/content/drive/MyDrive/training_data/weather_data/*\")\n",
    "li = []\n",
    "\n",
    "for f in files:\n",
    "    print(f'Reading File {f}')\n",
    "    df = pd.read_csv(f, delim_whitespace=True, header=None)\n",
    "    li.append(df)\n",
    "    \n",
    "# Merging Orders to Single Order File\n",
    "print('Merging....')\n",
    "weather_data = pd.concat(li, axis=0, ignore_index=True)\n",
    "weather_data.columns = ['Date','Time','Weather','Temperature','PM2.5']\n",
    "print('Weather Data Sucessfully Read!!!')"
   ]
  },
  {
   "cell_type": "code",
   "execution_count": null,
   "metadata": {
    "colab": {
     "base_uri": "https://localhost:8080/"
    },
    "id": "0uOUGYMP-5qa",
    "outputId": "f3361d61-8b10-465a-c109-4db6512dfe19"
   },
   "outputs": [
    {
     "name": "stdout",
     "output_type": "stream",
     "text": [
      "Reading File /content/drive/MyDrive/training_data/cluster_map/cluster_map\n",
      "Regions Data Sucessfully Read!!!\n"
     ]
    }
   ],
   "source": [
    "# Reading Regions Information\n",
    "\n",
    "f = \"/content/drive/MyDrive/training_data/cluster_map/cluster_map\"\n",
    "print(f'Reading File {f}')\n",
    "\n",
    "regions_data = pd.read_csv(f, delim_whitespace=True, header=None)\n",
    "regions_data.columns = ['region_hash','region_id']\n",
    "\n",
    "print('Regions Data Sucessfully Read!!!')"
   ]
  },
  {
   "cell_type": "code",
   "execution_count": null,
   "metadata": {
    "colab": {
     "base_uri": "https://localhost:8080/"
    },
    "id": "lA_CdMv9_Cur",
    "outputId": "062ba0c2-10d5-43f9-c3b3-77ba72d48ff2"
   },
   "outputs": [
    {
     "name": "stdout",
     "output_type": "stream",
     "text": [
      "Reading File /content/drive/MyDrive/training_data/poi_data/poi_data\n",
      "POI Data Sucessfully Read!!!\n"
     ]
    }
   ],
   "source": [
    "# Reading POI Information\n",
    "\n",
    "f = \"/content/drive/MyDrive/training_data/poi_data/poi_data\"\n",
    "print(f'Reading File {f}')\n",
    "\n",
    "poi_data = pd.read_csv(f, delimiter=',', header=None)\n",
    "poi_data.columns = ['region_hash','poi_class']\n",
    "\n",
    "print('POI Data Sucessfully Read!!!')"
   ]
  },
  {
   "cell_type": "code",
   "execution_count": null,
   "metadata": {
    "id": "HLIUDu0U_HBk"
   },
   "outputs": [],
   "source": [
    "# Function to Calculate Timeslot Number provided time\n",
    "def get_timeslot(time_str):\n",
    "    \n",
    "    time_list = time_str.split(':')\n",
    "    hour, minute, second = int(time_list[0]), int(time_list[1]), int(time_list[2])\n",
    "    timeslot = ((hour * 3600) + (minute * 60) + second) // 600 + 1\n",
    "    \n",
    "    return timeslot"
   ]
  },
  {
   "cell_type": "code",
   "execution_count": null,
   "metadata": {
    "id": "QX4Za2FT_Jsq"
   },
   "outputs": [],
   "source": [
    "# Function to Check if a Ride was Accepted or Not\n",
    "def get_accept_status(hashVal):\n",
    "    \n",
    "    if hashVal != hashVal:\n",
    "        return 0\n",
    "    else:\n",
    "        return 1"
   ]
  },
  {
   "cell_type": "code",
   "execution_count": null,
   "metadata": {
    "id": "_lXbj9Eu_QxN"
   },
   "outputs": [],
   "source": [
    "# Adding Classes as Columns in POI Data\n",
    "li = []\n",
    "for i in poi_data['poi_class']:\n",
    "    classes = i.split(\"\\t\")\n",
    "    \n",
    "    for j in classes:\n",
    "        fac = j.split(\":\")\n",
    "        c = fac[0].split(\"#\")\n",
    "\n",
    "        for k in c:\n",
    "          li.append('Class-'+k)\n",
    "\n",
    "\n",
    "li = list(set(li))\n",
    "poi_data  = pd.concat(\n",
    "    [\n",
    "        poi_data,\n",
    "        pd.DataFrame(\n",
    "            0,\n",
    "            index=poi_data.index, \n",
    "            columns=li\n",
    "        )\n",
    "    ], axis=1\n",
    ")"
   ]
  },
  {
   "cell_type": "code",
   "execution_count": null,
   "metadata": {
    "id": "1L3gdKmP_jla"
   },
   "outputs": [],
   "source": [
    "# Adding Number of Facilities of Each Class in POI Data\n",
    "for index,row in poi_data.iterrows():\n",
    "    classes = row['poi_class'].split(\"\\t\")\n",
    "    for j in classes:\n",
    "        fac = j.split(\":\")\n",
    "        c = fac[0].split(\"#\")\n",
    "\n",
    "        for k in c:\n",
    "          poi_data.at[index,'Class-'+k] += int(fac[1])\n",
    "poi_data = poi_data.drop(['poi_class'], axis=1)"
   ]
  },
  {
   "cell_type": "code",
   "execution_count": null,
   "metadata": {
    "colab": {
     "base_uri": "https://localhost:8080/",
     "height": 505
    },
    "id": "de4TR7lMz6bO",
    "outputId": "9520418c-39c4-4e0c-8fff-768866c762d0"
   },
   "outputs": [
    {
     "data": {
      "text/html": [
       "\n",
       "  <div id=\"df-efd42799-3cf8-4a1b-913f-9c2657d68d20\">\n",
       "    <div class=\"colab-df-container\">\n",
       "      <div>\n",
       "<style scoped>\n",
       "    .dataframe tbody tr th:only-of-type {\n",
       "        vertical-align: middle;\n",
       "    }\n",
       "\n",
       "    .dataframe tbody tr th {\n",
       "        vertical-align: top;\n",
       "    }\n",
       "\n",
       "    .dataframe thead th {\n",
       "        text-align: right;\n",
       "    }\n",
       "</style>\n",
       "<table border=\"1\" class=\"dataframe\">\n",
       "  <thead>\n",
       "    <tr style=\"text-align: right;\">\n",
       "      <th></th>\n",
       "      <th>region_hash</th>\n",
       "      <th>Class-25</th>\n",
       "      <th>Class-14</th>\n",
       "      <th>Class-1</th>\n",
       "      <th>Class-22</th>\n",
       "      <th>Class-12</th>\n",
       "      <th>Class-3</th>\n",
       "      <th>Class-8</th>\n",
       "      <th>Class-16</th>\n",
       "      <th>Class-20</th>\n",
       "      <th>...</th>\n",
       "      <th>Class-4</th>\n",
       "      <th>Class-6</th>\n",
       "      <th>Class-18</th>\n",
       "      <th>Class-24</th>\n",
       "      <th>Class-2</th>\n",
       "      <th>Class-19</th>\n",
       "      <th>Class-10</th>\n",
       "      <th>Class-17</th>\n",
       "      <th>Class-21</th>\n",
       "      <th>Class-15</th>\n",
       "    </tr>\n",
       "  </thead>\n",
       "  <tbody>\n",
       "    <tr>\n",
       "      <th>0</th>\n",
       "      <td>74c1c25f4b283fa74a5514307b0d0278</td>\n",
       "      <td>17928</td>\n",
       "      <td>13031</td>\n",
       "      <td>187165</td>\n",
       "      <td>7470</td>\n",
       "      <td>8549</td>\n",
       "      <td>64906</td>\n",
       "      <td>186086</td>\n",
       "      <td>46397</td>\n",
       "      <td>196959</td>\n",
       "      <td>...</td>\n",
       "      <td>139689</td>\n",
       "      <td>41998</td>\n",
       "      <td>4648</td>\n",
       "      <td>140851</td>\n",
       "      <td>86486</td>\n",
       "      <td>87233</td>\n",
       "      <td>22991</td>\n",
       "      <td>44654</td>\n",
       "      <td>0</td>\n",
       "      <td>29050</td>\n",
       "    </tr>\n",
       "    <tr>\n",
       "      <th>1</th>\n",
       "      <td>08f5b445ec6b29deba62e6fd8b0325a6</td>\n",
       "      <td>830</td>\n",
       "      <td>12035</td>\n",
       "      <td>6889</td>\n",
       "      <td>83</td>\n",
       "      <td>1494</td>\n",
       "      <td>5561</td>\n",
       "      <td>3486</td>\n",
       "      <td>5644</td>\n",
       "      <td>2407</td>\n",
       "      <td>...</td>\n",
       "      <td>6142</td>\n",
       "      <td>1660</td>\n",
       "      <td>83</td>\n",
       "      <td>332</td>\n",
       "      <td>3818</td>\n",
       "      <td>11371</td>\n",
       "      <td>2905</td>\n",
       "      <td>913</td>\n",
       "      <td>498</td>\n",
       "      <td>1743</td>\n",
       "    </tr>\n",
       "    <tr>\n",
       "      <th>2</th>\n",
       "      <td>4b7f6f4e2bf237b6cc58f57142bea5c0</td>\n",
       "      <td>3071</td>\n",
       "      <td>913</td>\n",
       "      <td>21414</td>\n",
       "      <td>1909</td>\n",
       "      <td>2324</td>\n",
       "      <td>12616</td>\n",
       "      <td>13529</td>\n",
       "      <td>8881</td>\n",
       "      <td>18509</td>\n",
       "      <td>...</td>\n",
       "      <td>15936</td>\n",
       "      <td>3154</td>\n",
       "      <td>664</td>\n",
       "      <td>7885</td>\n",
       "      <td>8798</td>\n",
       "      <td>22576</td>\n",
       "      <td>1826</td>\n",
       "      <td>3237</td>\n",
       "      <td>83</td>\n",
       "      <td>5893</td>\n",
       "    </tr>\n",
       "    <tr>\n",
       "      <th>3</th>\n",
       "      <td>a814069db8d32f0fa6e188f41059c6e1</td>\n",
       "      <td>3652</td>\n",
       "      <td>1162</td>\n",
       "      <td>15355</td>\n",
       "      <td>6806</td>\n",
       "      <td>1992</td>\n",
       "      <td>9628</td>\n",
       "      <td>18426</td>\n",
       "      <td>6308</td>\n",
       "      <td>31291</td>\n",
       "      <td>...</td>\n",
       "      <td>16849</td>\n",
       "      <td>3818</td>\n",
       "      <td>581</td>\n",
       "      <td>2988</td>\n",
       "      <td>8466</td>\n",
       "      <td>33615</td>\n",
       "      <td>1079</td>\n",
       "      <td>1909</td>\n",
       "      <td>83</td>\n",
       "      <td>4565</td>\n",
       "    </tr>\n",
       "    <tr>\n",
       "      <th>4</th>\n",
       "      <td>8316146a6f78cc6d9f113f0390859417</td>\n",
       "      <td>1079</td>\n",
       "      <td>498</td>\n",
       "      <td>7055</td>\n",
       "      <td>498</td>\n",
       "      <td>498</td>\n",
       "      <td>5810</td>\n",
       "      <td>2490</td>\n",
       "      <td>5063</td>\n",
       "      <td>3071</td>\n",
       "      <td>...</td>\n",
       "      <td>5561</td>\n",
       "      <td>498</td>\n",
       "      <td>415</td>\n",
       "      <td>1743</td>\n",
       "      <td>3486</td>\n",
       "      <td>11537</td>\n",
       "      <td>996</td>\n",
       "      <td>498</td>\n",
       "      <td>166</td>\n",
       "      <td>2075</td>\n",
       "    </tr>\n",
       "    <tr>\n",
       "      <th>...</th>\n",
       "      <td>...</td>\n",
       "      <td>...</td>\n",
       "      <td>...</td>\n",
       "      <td>...</td>\n",
       "      <td>...</td>\n",
       "      <td>...</td>\n",
       "      <td>...</td>\n",
       "      <td>...</td>\n",
       "      <td>...</td>\n",
       "      <td>...</td>\n",
       "      <td>...</td>\n",
       "      <td>...</td>\n",
       "      <td>...</td>\n",
       "      <td>...</td>\n",
       "      <td>...</td>\n",
       "      <td>...</td>\n",
       "      <td>...</td>\n",
       "      <td>...</td>\n",
       "      <td>...</td>\n",
       "      <td>...</td>\n",
       "      <td>...</td>\n",
       "    </tr>\n",
       "    <tr>\n",
       "      <th>61</th>\n",
       "      <td>d4ec2125aff74eded207d2d915ef682f</td>\n",
       "      <td>60839</td>\n",
       "      <td>46729</td>\n",
       "      <td>617354</td>\n",
       "      <td>8051</td>\n",
       "      <td>20086</td>\n",
       "      <td>347687</td>\n",
       "      <td>624160</td>\n",
       "      <td>153633</td>\n",
       "      <td>678110</td>\n",
       "      <td>...</td>\n",
       "      <td>526635</td>\n",
       "      <td>169071</td>\n",
       "      <td>7304</td>\n",
       "      <td>493684</td>\n",
       "      <td>296725</td>\n",
       "      <td>502731</td>\n",
       "      <td>79265</td>\n",
       "      <td>119437</td>\n",
       "      <td>83</td>\n",
       "      <td>141515</td>\n",
       "    </tr>\n",
       "    <tr>\n",
       "      <th>62</th>\n",
       "      <td>82cc4851f9e4faa4e54309f8bb73fd7c</td>\n",
       "      <td>23074</td>\n",
       "      <td>10790</td>\n",
       "      <td>331336</td>\n",
       "      <td>12367</td>\n",
       "      <td>18509</td>\n",
       "      <td>137780</td>\n",
       "      <td>215219</td>\n",
       "      <td>66732</td>\n",
       "      <td>233396</td>\n",
       "      <td>...</td>\n",
       "      <td>264943</td>\n",
       "      <td>71546</td>\n",
       "      <td>5063</td>\n",
       "      <td>259956</td>\n",
       "      <td>167155</td>\n",
       "      <td>232400</td>\n",
       "      <td>38678</td>\n",
       "      <td>58259</td>\n",
       "      <td>0</td>\n",
       "      <td>49890</td>\n",
       "    </tr>\n",
       "    <tr>\n",
       "      <th>63</th>\n",
       "      <td>fff4e8465d1e12621bc361276b6217cf</td>\n",
       "      <td>2407</td>\n",
       "      <td>913</td>\n",
       "      <td>11122</td>\n",
       "      <td>498</td>\n",
       "      <td>415</td>\n",
       "      <td>8549</td>\n",
       "      <td>7968</td>\n",
       "      <td>6557</td>\n",
       "      <td>10126</td>\n",
       "      <td>...</td>\n",
       "      <td>10873</td>\n",
       "      <td>2739</td>\n",
       "      <td>664</td>\n",
       "      <td>1162</td>\n",
       "      <td>4565</td>\n",
       "      <td>18260</td>\n",
       "      <td>747</td>\n",
       "      <td>996</td>\n",
       "      <td>0</td>\n",
       "      <td>3901</td>\n",
       "    </tr>\n",
       "    <tr>\n",
       "      <th>64</th>\n",
       "      <td>b05379ac3f9b7d99370d443cfd5dcc28</td>\n",
       "      <td>13197</td>\n",
       "      <td>3486</td>\n",
       "      <td>124417</td>\n",
       "      <td>7885</td>\n",
       "      <td>11537</td>\n",
       "      <td>51875</td>\n",
       "      <td>114125</td>\n",
       "      <td>36105</td>\n",
       "      <td>171478</td>\n",
       "      <td>...</td>\n",
       "      <td>121927</td>\n",
       "      <td>31955</td>\n",
       "      <td>2158</td>\n",
       "      <td>85490</td>\n",
       "      <td>77688</td>\n",
       "      <td>97608</td>\n",
       "      <td>17845</td>\n",
       "      <td>28137</td>\n",
       "      <td>83</td>\n",
       "      <td>17015</td>\n",
       "    </tr>\n",
       "    <tr>\n",
       "      <th>65</th>\n",
       "      <td>fc34648599753c9e74ab238e9a4a07ad</td>\n",
       "      <td>11288</td>\n",
       "      <td>3403</td>\n",
       "      <td>60009</td>\n",
       "      <td>7636</td>\n",
       "      <td>4316</td>\n",
       "      <td>47144</td>\n",
       "      <td>109975</td>\n",
       "      <td>40670</td>\n",
       "      <td>134128</td>\n",
       "      <td>...</td>\n",
       "      <td>96446</td>\n",
       "      <td>27390</td>\n",
       "      <td>2324</td>\n",
       "      <td>18177</td>\n",
       "      <td>59096</td>\n",
       "      <td>76526</td>\n",
       "      <td>10458</td>\n",
       "      <td>21746</td>\n",
       "      <td>166</td>\n",
       "      <td>22576</td>\n",
       "    </tr>\n",
       "  </tbody>\n",
       "</table>\n",
       "<p>66 rows × 26 columns</p>\n",
       "</div>\n",
       "      <button class=\"colab-df-convert\" onclick=\"convertToInteractive('df-efd42799-3cf8-4a1b-913f-9c2657d68d20')\"\n",
       "              title=\"Convert this dataframe to an interactive table.\"\n",
       "              style=\"display:none;\">\n",
       "        \n",
       "  <svg xmlns=\"http://www.w3.org/2000/svg\" height=\"24px\"viewBox=\"0 0 24 24\"\n",
       "       width=\"24px\">\n",
       "    <path d=\"M0 0h24v24H0V0z\" fill=\"none\"/>\n",
       "    <path d=\"M18.56 5.44l.94 2.06.94-2.06 2.06-.94-2.06-.94-.94-2.06-.94 2.06-2.06.94zm-11 1L8.5 8.5l.94-2.06 2.06-.94-2.06-.94L8.5 2.5l-.94 2.06-2.06.94zm10 10l.94 2.06.94-2.06 2.06-.94-2.06-.94-.94-2.06-.94 2.06-2.06.94z\"/><path d=\"M17.41 7.96l-1.37-1.37c-.4-.4-.92-.59-1.43-.59-.52 0-1.04.2-1.43.59L10.3 9.45l-7.72 7.72c-.78.78-.78 2.05 0 2.83L4 21.41c.39.39.9.59 1.41.59.51 0 1.02-.2 1.41-.59l7.78-7.78 2.81-2.81c.8-.78.8-2.07 0-2.86zM5.41 20L4 18.59l7.72-7.72 1.47 1.35L5.41 20z\"/>\n",
       "  </svg>\n",
       "      </button>\n",
       "      \n",
       "  <style>\n",
       "    .colab-df-container {\n",
       "      display:flex;\n",
       "      flex-wrap:wrap;\n",
       "      gap: 12px;\n",
       "    }\n",
       "\n",
       "    .colab-df-convert {\n",
       "      background-color: #E8F0FE;\n",
       "      border: none;\n",
       "      border-radius: 50%;\n",
       "      cursor: pointer;\n",
       "      display: none;\n",
       "      fill: #1967D2;\n",
       "      height: 32px;\n",
       "      padding: 0 0 0 0;\n",
       "      width: 32px;\n",
       "    }\n",
       "\n",
       "    .colab-df-convert:hover {\n",
       "      background-color: #E2EBFA;\n",
       "      box-shadow: 0px 1px 2px rgba(60, 64, 67, 0.3), 0px 1px 3px 1px rgba(60, 64, 67, 0.15);\n",
       "      fill: #174EA6;\n",
       "    }\n",
       "\n",
       "    [theme=dark] .colab-df-convert {\n",
       "      background-color: #3B4455;\n",
       "      fill: #D2E3FC;\n",
       "    }\n",
       "\n",
       "    [theme=dark] .colab-df-convert:hover {\n",
       "      background-color: #434B5C;\n",
       "      box-shadow: 0px 1px 3px 1px rgba(0, 0, 0, 0.15);\n",
       "      filter: drop-shadow(0px 1px 2px rgba(0, 0, 0, 0.3));\n",
       "      fill: #FFFFFF;\n",
       "    }\n",
       "  </style>\n",
       "\n",
       "      <script>\n",
       "        const buttonEl =\n",
       "          document.querySelector('#df-efd42799-3cf8-4a1b-913f-9c2657d68d20 button.colab-df-convert');\n",
       "        buttonEl.style.display =\n",
       "          google.colab.kernel.accessAllowed ? 'block' : 'none';\n",
       "\n",
       "        async function convertToInteractive(key) {\n",
       "          const element = document.querySelector('#df-efd42799-3cf8-4a1b-913f-9c2657d68d20');\n",
       "          const dataTable =\n",
       "            await google.colab.kernel.invokeFunction('convertToInteractive',\n",
       "                                                     [key], {});\n",
       "          if (!dataTable) return;\n",
       "\n",
       "          const docLinkHtml = 'Like what you see? Visit the ' +\n",
       "            '<a target=\"_blank\" href=https://colab.research.google.com/notebooks/data_table.ipynb>data table notebook</a>'\n",
       "            + ' to learn more about interactive tables.';\n",
       "          element.innerHTML = '';\n",
       "          dataTable['output_type'] = 'display_data';\n",
       "          await google.colab.output.renderOutput(dataTable, element);\n",
       "          const docLink = document.createElement('div');\n",
       "          docLink.innerHTML = docLinkHtml;\n",
       "          element.appendChild(docLink);\n",
       "        }\n",
       "      </script>\n",
       "    </div>\n",
       "  </div>\n",
       "  "
      ],
      "text/plain": [
       "                         region_hash  Class-25  Class-14  Class-1  Class-22  \\\n",
       "0   74c1c25f4b283fa74a5514307b0d0278     17928     13031   187165      7470   \n",
       "1   08f5b445ec6b29deba62e6fd8b0325a6       830     12035     6889        83   \n",
       "2   4b7f6f4e2bf237b6cc58f57142bea5c0      3071       913    21414      1909   \n",
       "3   a814069db8d32f0fa6e188f41059c6e1      3652      1162    15355      6806   \n",
       "4   8316146a6f78cc6d9f113f0390859417      1079       498     7055       498   \n",
       "..                               ...       ...       ...      ...       ...   \n",
       "61  d4ec2125aff74eded207d2d915ef682f     60839     46729   617354      8051   \n",
       "62  82cc4851f9e4faa4e54309f8bb73fd7c     23074     10790   331336     12367   \n",
       "63  fff4e8465d1e12621bc361276b6217cf      2407       913    11122       498   \n",
       "64  b05379ac3f9b7d99370d443cfd5dcc28     13197      3486   124417      7885   \n",
       "65  fc34648599753c9e74ab238e9a4a07ad     11288      3403    60009      7636   \n",
       "\n",
       "    Class-12  Class-3  Class-8  Class-16  Class-20  ...  Class-4  Class-6  \\\n",
       "0       8549    64906   186086     46397    196959  ...   139689    41998   \n",
       "1       1494     5561     3486      5644      2407  ...     6142     1660   \n",
       "2       2324    12616    13529      8881     18509  ...    15936     3154   \n",
       "3       1992     9628    18426      6308     31291  ...    16849     3818   \n",
       "4        498     5810     2490      5063      3071  ...     5561      498   \n",
       "..       ...      ...      ...       ...       ...  ...      ...      ...   \n",
       "61     20086   347687   624160    153633    678110  ...   526635   169071   \n",
       "62     18509   137780   215219     66732    233396  ...   264943    71546   \n",
       "63       415     8549     7968      6557     10126  ...    10873     2739   \n",
       "64     11537    51875   114125     36105    171478  ...   121927    31955   \n",
       "65      4316    47144   109975     40670    134128  ...    96446    27390   \n",
       "\n",
       "    Class-18  Class-24  Class-2  Class-19  Class-10  Class-17  Class-21  \\\n",
       "0       4648    140851    86486     87233     22991     44654         0   \n",
       "1         83       332     3818     11371      2905       913       498   \n",
       "2        664      7885     8798     22576      1826      3237        83   \n",
       "3        581      2988     8466     33615      1079      1909        83   \n",
       "4        415      1743     3486     11537       996       498       166   \n",
       "..       ...       ...      ...       ...       ...       ...       ...   \n",
       "61      7304    493684   296725    502731     79265    119437        83   \n",
       "62      5063    259956   167155    232400     38678     58259         0   \n",
       "63       664      1162     4565     18260       747       996         0   \n",
       "64      2158     85490    77688     97608     17845     28137        83   \n",
       "65      2324     18177    59096     76526     10458     21746       166   \n",
       "\n",
       "    Class-15  \n",
       "0      29050  \n",
       "1       1743  \n",
       "2       5893  \n",
       "3       4565  \n",
       "4       2075  \n",
       "..       ...  \n",
       "61    141515  \n",
       "62     49890  \n",
       "63      3901  \n",
       "64     17015  \n",
       "65     22576  \n",
       "\n",
       "[66 rows x 26 columns]"
      ]
     },
     "execution_count": 167,
     "metadata": {},
     "output_type": "execute_result"
    }
   ],
   "source": [
    "# Displaying POI Data\n",
    "poi_data"
   ]
  },
  {
   "cell_type": "code",
   "execution_count": null,
   "metadata": {
    "id": "UsPICPhzAJ8k"
   },
   "outputs": [],
   "source": [
    "# Calculating Timeslot and Status for Each Order\n",
    "orders_data['Timeslot'] = orders_data['Time'].apply(get_timeslot)\n",
    "orders_data['Status'] = orders_data['driver_id'].apply(get_accept_status)\n",
    "orders_data = orders_data.drop(['driver_id','order_id','dest_region_hash','passenger_id','Time'],axis=1)"
   ]
  },
  {
   "cell_type": "code",
   "execution_count": null,
   "metadata": {
    "colab": {
     "base_uri": "https://localhost:8080/",
     "height": 423
    },
    "id": "r-0J3rpWAVKJ",
    "outputId": "b1a95ef9-a68b-423e-df12-44cf4affa85d"
   },
   "outputs": [
    {
     "data": {
      "text/html": [
       "\n",
       "  <div id=\"df-48814950-b24f-481a-84be-d8241b9d46de\">\n",
       "    <div class=\"colab-df-container\">\n",
       "      <div>\n",
       "<style scoped>\n",
       "    .dataframe tbody tr th:only-of-type {\n",
       "        vertical-align: middle;\n",
       "    }\n",
       "\n",
       "    .dataframe tbody tr th {\n",
       "        vertical-align: top;\n",
       "    }\n",
       "\n",
       "    .dataframe thead th {\n",
       "        text-align: right;\n",
       "    }\n",
       "</style>\n",
       "<table border=\"1\" class=\"dataframe\">\n",
       "  <thead>\n",
       "    <tr style=\"text-align: right;\">\n",
       "      <th></th>\n",
       "      <th>start_region_hash</th>\n",
       "      <th>Date</th>\n",
       "      <th>Timeslot</th>\n",
       "      <th>Average Price</th>\n",
       "      <th>Demand-Supply Gap</th>\n",
       "    </tr>\n",
       "  </thead>\n",
       "  <tbody>\n",
       "    <tr>\n",
       "      <th>0</th>\n",
       "      <td>08232402614a9b48895cc3d0aeb0e9f2</td>\n",
       "      <td>2016-01-01</td>\n",
       "      <td>6</td>\n",
       "      <td>17.50</td>\n",
       "      <td>2</td>\n",
       "    </tr>\n",
       "    <tr>\n",
       "      <th>1</th>\n",
       "      <td>08232402614a9b48895cc3d0aeb0e9f2</td>\n",
       "      <td>2016-01-01</td>\n",
       "      <td>7</td>\n",
       "      <td>32.00</td>\n",
       "      <td>1</td>\n",
       "    </tr>\n",
       "    <tr>\n",
       "      <th>2</th>\n",
       "      <td>08232402614a9b48895cc3d0aeb0e9f2</td>\n",
       "      <td>2016-01-01</td>\n",
       "      <td>8</td>\n",
       "      <td>30.00</td>\n",
       "      <td>0</td>\n",
       "    </tr>\n",
       "    <tr>\n",
       "      <th>3</th>\n",
       "      <td>08232402614a9b48895cc3d0aeb0e9f2</td>\n",
       "      <td>2016-01-01</td>\n",
       "      <td>14</td>\n",
       "      <td>91.00</td>\n",
       "      <td>0</td>\n",
       "    </tr>\n",
       "    <tr>\n",
       "      <th>4</th>\n",
       "      <td>08232402614a9b48895cc3d0aeb0e9f2</td>\n",
       "      <td>2016-01-01</td>\n",
       "      <td>15</td>\n",
       "      <td>94.00</td>\n",
       "      <td>1</td>\n",
       "    </tr>\n",
       "    <tr>\n",
       "      <th>...</th>\n",
       "      <td>...</td>\n",
       "      <td>...</td>\n",
       "      <td>...</td>\n",
       "      <td>...</td>\n",
       "      <td>...</td>\n",
       "    </tr>\n",
       "    <tr>\n",
       "      <th>163486</th>\n",
       "      <td>fff4e8465d1e12621bc361276b6217cf</td>\n",
       "      <td>2016-01-21</td>\n",
       "      <td>138</td>\n",
       "      <td>11.25</td>\n",
       "      <td>4</td>\n",
       "    </tr>\n",
       "    <tr>\n",
       "      <th>163487</th>\n",
       "      <td>fff4e8465d1e12621bc361276b6217cf</td>\n",
       "      <td>2016-01-21</td>\n",
       "      <td>139</td>\n",
       "      <td>63.50</td>\n",
       "      <td>1</td>\n",
       "    </tr>\n",
       "    <tr>\n",
       "      <th>163488</th>\n",
       "      <td>fff4e8465d1e12621bc361276b6217cf</td>\n",
       "      <td>2016-01-21</td>\n",
       "      <td>142</td>\n",
       "      <td>19.00</td>\n",
       "      <td>0</td>\n",
       "    </tr>\n",
       "    <tr>\n",
       "      <th>163489</th>\n",
       "      <td>fff4e8465d1e12621bc361276b6217cf</td>\n",
       "      <td>2016-01-21</td>\n",
       "      <td>143</td>\n",
       "      <td>13.00</td>\n",
       "      <td>1</td>\n",
       "    </tr>\n",
       "    <tr>\n",
       "      <th>163490</th>\n",
       "      <td>fff4e8465d1e12621bc361276b6217cf</td>\n",
       "      <td>2016-01-21</td>\n",
       "      <td>144</td>\n",
       "      <td>24.50</td>\n",
       "      <td>1</td>\n",
       "    </tr>\n",
       "  </tbody>\n",
       "</table>\n",
       "<p>163491 rows × 5 columns</p>\n",
       "</div>\n",
       "      <button class=\"colab-df-convert\" onclick=\"convertToInteractive('df-48814950-b24f-481a-84be-d8241b9d46de')\"\n",
       "              title=\"Convert this dataframe to an interactive table.\"\n",
       "              style=\"display:none;\">\n",
       "        \n",
       "  <svg xmlns=\"http://www.w3.org/2000/svg\" height=\"24px\"viewBox=\"0 0 24 24\"\n",
       "       width=\"24px\">\n",
       "    <path d=\"M0 0h24v24H0V0z\" fill=\"none\"/>\n",
       "    <path d=\"M18.56 5.44l.94 2.06.94-2.06 2.06-.94-2.06-.94-.94-2.06-.94 2.06-2.06.94zm-11 1L8.5 8.5l.94-2.06 2.06-.94-2.06-.94L8.5 2.5l-.94 2.06-2.06.94zm10 10l.94 2.06.94-2.06 2.06-.94-2.06-.94-.94-2.06-.94 2.06-2.06.94z\"/><path d=\"M17.41 7.96l-1.37-1.37c-.4-.4-.92-.59-1.43-.59-.52 0-1.04.2-1.43.59L10.3 9.45l-7.72 7.72c-.78.78-.78 2.05 0 2.83L4 21.41c.39.39.9.59 1.41.59.51 0 1.02-.2 1.41-.59l7.78-7.78 2.81-2.81c.8-.78.8-2.07 0-2.86zM5.41 20L4 18.59l7.72-7.72 1.47 1.35L5.41 20z\"/>\n",
       "  </svg>\n",
       "      </button>\n",
       "      \n",
       "  <style>\n",
       "    .colab-df-container {\n",
       "      display:flex;\n",
       "      flex-wrap:wrap;\n",
       "      gap: 12px;\n",
       "    }\n",
       "\n",
       "    .colab-df-convert {\n",
       "      background-color: #E8F0FE;\n",
       "      border: none;\n",
       "      border-radius: 50%;\n",
       "      cursor: pointer;\n",
       "      display: none;\n",
       "      fill: #1967D2;\n",
       "      height: 32px;\n",
       "      padding: 0 0 0 0;\n",
       "      width: 32px;\n",
       "    }\n",
       "\n",
       "    .colab-df-convert:hover {\n",
       "      background-color: #E2EBFA;\n",
       "      box-shadow: 0px 1px 2px rgba(60, 64, 67, 0.3), 0px 1px 3px 1px rgba(60, 64, 67, 0.15);\n",
       "      fill: #174EA6;\n",
       "    }\n",
       "\n",
       "    [theme=dark] .colab-df-convert {\n",
       "      background-color: #3B4455;\n",
       "      fill: #D2E3FC;\n",
       "    }\n",
       "\n",
       "    [theme=dark] .colab-df-convert:hover {\n",
       "      background-color: #434B5C;\n",
       "      box-shadow: 0px 1px 3px 1px rgba(0, 0, 0, 0.15);\n",
       "      filter: drop-shadow(0px 1px 2px rgba(0, 0, 0, 0.3));\n",
       "      fill: #FFFFFF;\n",
       "    }\n",
       "  </style>\n",
       "\n",
       "      <script>\n",
       "        const buttonEl =\n",
       "          document.querySelector('#df-48814950-b24f-481a-84be-d8241b9d46de button.colab-df-convert');\n",
       "        buttonEl.style.display =\n",
       "          google.colab.kernel.accessAllowed ? 'block' : 'none';\n",
       "\n",
       "        async function convertToInteractive(key) {\n",
       "          const element = document.querySelector('#df-48814950-b24f-481a-84be-d8241b9d46de');\n",
       "          const dataTable =\n",
       "            await google.colab.kernel.invokeFunction('convertToInteractive',\n",
       "                                                     [key], {});\n",
       "          if (!dataTable) return;\n",
       "\n",
       "          const docLinkHtml = 'Like what you see? Visit the ' +\n",
       "            '<a target=\"_blank\" href=https://colab.research.google.com/notebooks/data_table.ipynb>data table notebook</a>'\n",
       "            + ' to learn more about interactive tables.';\n",
       "          element.innerHTML = '';\n",
       "          dataTable['output_type'] = 'display_data';\n",
       "          await google.colab.output.renderOutput(dataTable, element);\n",
       "          const docLink = document.createElement('div');\n",
       "          docLink.innerHTML = docLinkHtml;\n",
       "          element.appendChild(docLink);\n",
       "        }\n",
       "      </script>\n",
       "    </div>\n",
       "  </div>\n",
       "  "
      ],
      "text/plain": [
       "                       start_region_hash        Date  Timeslot  Average Price  \\\n",
       "0       08232402614a9b48895cc3d0aeb0e9f2  2016-01-01         6          17.50   \n",
       "1       08232402614a9b48895cc3d0aeb0e9f2  2016-01-01         7          32.00   \n",
       "2       08232402614a9b48895cc3d0aeb0e9f2  2016-01-01         8          30.00   \n",
       "3       08232402614a9b48895cc3d0aeb0e9f2  2016-01-01        14          91.00   \n",
       "4       08232402614a9b48895cc3d0aeb0e9f2  2016-01-01        15          94.00   \n",
       "...                                  ...         ...       ...            ...   \n",
       "163486  fff4e8465d1e12621bc361276b6217cf  2016-01-21       138          11.25   \n",
       "163487  fff4e8465d1e12621bc361276b6217cf  2016-01-21       139          63.50   \n",
       "163488  fff4e8465d1e12621bc361276b6217cf  2016-01-21       142          19.00   \n",
       "163489  fff4e8465d1e12621bc361276b6217cf  2016-01-21       143          13.00   \n",
       "163490  fff4e8465d1e12621bc361276b6217cf  2016-01-21       144          24.50   \n",
       "\n",
       "        Demand-Supply Gap  \n",
       "0                       2  \n",
       "1                       1  \n",
       "2                       0  \n",
       "3                       0  \n",
       "4                       1  \n",
       "...                   ...  \n",
       "163486                  4  \n",
       "163487                  1  \n",
       "163488                  0  \n",
       "163489                  1  \n",
       "163490                  1  \n",
       "\n",
       "[163491 rows x 5 columns]"
      ]
     },
     "execution_count": 78,
     "metadata": {},
     "output_type": "execute_result"
    }
   ],
   "source": [
    "# Grouping Data to Calculate Demand Supply Gap\n",
    "gap_data = orders_data.groupby(['start_region_hash','Date','Timeslot']).agg({'Price': 'mean', 'Status': lambda x: len(x) - sum(x==1)}).reset_index()\n",
    "gap_data.columns = ['start_region_hash', 'Date', 'Timeslot', 'Average Price', 'Demand-Supply Gap']\n",
    "gap_data"
   ]
  },
  {
   "cell_type": "code",
   "execution_count": null,
   "metadata": {
    "id": "NUAzaSdVAnMx"
   },
   "outputs": [],
   "source": [
    "# Joining Demand-Supply Data with Region Table based on Hash to Get Region ID\n",
    "gap_data = pd.merge(gap_data, regions_data, left_on='start_region_hash', right_on='region_hash')\n",
    "\n",
    "# Cleaning Demand-Supply Data\n",
    "gap_data = gap_data.drop(['start_region_hash'],axis=1)\n",
    "gap_data = gap_data[['region_hash', 'region_id','Date','Timeslot','Average Price','Demand-Supply Gap']]"
   ]
  },
  {
   "cell_type": "code",
   "execution_count": null,
   "metadata": {
    "id": "Rjnyl9p3AqnC"
   },
   "outputs": [],
   "source": [
    "# Calculating Timeslot for Each Weather Report\n",
    "weather_data['Timeslot'] = weather_data['Time'].apply(get_timeslot)\n",
    "\n",
    "# Cleaning Weather Data\n",
    "weather_data = weather_data.drop_duplicates(subset=['Date', 'Timeslot'], keep='first')\n",
    "weather_data = weather_data.reset_index(drop=True)"
   ]
  },
  {
   "cell_type": "code",
   "execution_count": null,
   "metadata": {
    "id": "LDPbpv66AtS-"
   },
   "outputs": [],
   "source": [
    "# Adding Nearest Weather Records For Missing Timeslots in Weather Data\n",
    "filled_weather_data = pd.DataFrame(columns=weather_data.columns)\n",
    "\n",
    "for date in weather_data['Date'].unique():\n",
    "    date_weather_data = weather_data[weather_data['Date'] == date]\n",
    "\n",
    "    for timeslot in range(1, 145):\n",
    "\n",
    "        if timeslot not in date_weather_data['Timeslot'].unique():\n",
    "\n",
    "            nearest_record = date_weather_data.iloc[(date_weather_data['Timeslot'] - timeslot).abs().argsort()[:1]]\n",
    "            new_record = pd.DataFrame(columns=date_weather_data.columns)\n",
    "            new_record['Date'] = nearest_record['Date']\n",
    "            new_record['Timeslot'] = timeslot\n",
    "            new_record['Weather'] = nearest_record['Weather']\n",
    "            new_record['Temperature'] = nearest_record['Temperature']\n",
    "            new_record['PM2.5'] = nearest_record['PM2.5']\n",
    "            new_record['Time'] = 'NULL'\n",
    "\n",
    "            filled_weather_data = pd.concat([filled_weather_data,new_record], ignore_index=True)\n",
    "        else:\n",
    "\n",
    "            filled_weather_data = pd.concat([filled_weather_data,date_weather_data[date_weather_data['Timeslot'] == timeslot]], ignore_index=True)\n",
    "\n",
    "weather_data = filled_weather_data\n",
    "weather_data = weather_data.drop(['Time'],axis=1)"
   ]
  },
  {
   "cell_type": "code",
   "execution_count": null,
   "metadata": {
    "colab": {
     "base_uri": "https://localhost:8080/",
     "height": 423
    },
    "id": "dpiXkKUd0V8j",
    "outputId": "3317895e-aff0-4ebe-a497-549ccc763b69"
   },
   "outputs": [
    {
     "data": {
      "text/html": [
       "\n",
       "  <div id=\"df-2170ada9-fcad-4edb-a2a8-555251324e7d\">\n",
       "    <div class=\"colab-df-container\">\n",
       "      <div>\n",
       "<style scoped>\n",
       "    .dataframe tbody tr th:only-of-type {\n",
       "        vertical-align: middle;\n",
       "    }\n",
       "\n",
       "    .dataframe tbody tr th {\n",
       "        vertical-align: top;\n",
       "    }\n",
       "\n",
       "    .dataframe thead th {\n",
       "        text-align: right;\n",
       "    }\n",
       "</style>\n",
       "<table border=\"1\" class=\"dataframe\">\n",
       "  <thead>\n",
       "    <tr style=\"text-align: right;\">\n",
       "      <th></th>\n",
       "      <th>Date</th>\n",
       "      <th>Weather</th>\n",
       "      <th>Temperature</th>\n",
       "      <th>PM2.5</th>\n",
       "      <th>Timeslot</th>\n",
       "    </tr>\n",
       "  </thead>\n",
       "  <tbody>\n",
       "    <tr>\n",
       "      <th>0</th>\n",
       "      <td>2016-01-05</td>\n",
       "      <td>4</td>\n",
       "      <td>12.0</td>\n",
       "      <td>170</td>\n",
       "      <td>1</td>\n",
       "    </tr>\n",
       "    <tr>\n",
       "      <th>1</th>\n",
       "      <td>2016-01-05</td>\n",
       "      <td>8</td>\n",
       "      <td>12.0</td>\n",
       "      <td>170</td>\n",
       "      <td>2</td>\n",
       "    </tr>\n",
       "    <tr>\n",
       "      <th>2</th>\n",
       "      <td>2016-01-05</td>\n",
       "      <td>4</td>\n",
       "      <td>12.0</td>\n",
       "      <td>170</td>\n",
       "      <td>3</td>\n",
       "    </tr>\n",
       "    <tr>\n",
       "      <th>3</th>\n",
       "      <td>2016-01-05</td>\n",
       "      <td>4</td>\n",
       "      <td>12.0</td>\n",
       "      <td>170</td>\n",
       "      <td>4</td>\n",
       "    </tr>\n",
       "    <tr>\n",
       "      <th>4</th>\n",
       "      <td>2016-01-05</td>\n",
       "      <td>4</td>\n",
       "      <td>12.0</td>\n",
       "      <td>165</td>\n",
       "      <td>5</td>\n",
       "    </tr>\n",
       "    <tr>\n",
       "      <th>...</th>\n",
       "      <td>...</td>\n",
       "      <td>...</td>\n",
       "      <td>...</td>\n",
       "      <td>...</td>\n",
       "      <td>...</td>\n",
       "    </tr>\n",
       "    <tr>\n",
       "      <th>3019</th>\n",
       "      <td>2016-01-15</td>\n",
       "      <td>2</td>\n",
       "      <td>5.0</td>\n",
       "      <td>134</td>\n",
       "      <td>140</td>\n",
       "    </tr>\n",
       "    <tr>\n",
       "      <th>3020</th>\n",
       "      <td>2016-01-15</td>\n",
       "      <td>2</td>\n",
       "      <td>5.0</td>\n",
       "      <td>134</td>\n",
       "      <td>141</td>\n",
       "    </tr>\n",
       "    <tr>\n",
       "      <th>3021</th>\n",
       "      <td>2016-01-15</td>\n",
       "      <td>2</td>\n",
       "      <td>5.0</td>\n",
       "      <td>134</td>\n",
       "      <td>142</td>\n",
       "    </tr>\n",
       "    <tr>\n",
       "      <th>3022</th>\n",
       "      <td>2016-01-15</td>\n",
       "      <td>2</td>\n",
       "      <td>5.0</td>\n",
       "      <td>132</td>\n",
       "      <td>143</td>\n",
       "    </tr>\n",
       "    <tr>\n",
       "      <th>3023</th>\n",
       "      <td>2016-01-15</td>\n",
       "      <td>2</td>\n",
       "      <td>5.0</td>\n",
       "      <td>132</td>\n",
       "      <td>144</td>\n",
       "    </tr>\n",
       "  </tbody>\n",
       "</table>\n",
       "<p>3024 rows × 5 columns</p>\n",
       "</div>\n",
       "      <button class=\"colab-df-convert\" onclick=\"convertToInteractive('df-2170ada9-fcad-4edb-a2a8-555251324e7d')\"\n",
       "              title=\"Convert this dataframe to an interactive table.\"\n",
       "              style=\"display:none;\">\n",
       "        \n",
       "  <svg xmlns=\"http://www.w3.org/2000/svg\" height=\"24px\"viewBox=\"0 0 24 24\"\n",
       "       width=\"24px\">\n",
       "    <path d=\"M0 0h24v24H0V0z\" fill=\"none\"/>\n",
       "    <path d=\"M18.56 5.44l.94 2.06.94-2.06 2.06-.94-2.06-.94-.94-2.06-.94 2.06-2.06.94zm-11 1L8.5 8.5l.94-2.06 2.06-.94-2.06-.94L8.5 2.5l-.94 2.06-2.06.94zm10 10l.94 2.06.94-2.06 2.06-.94-2.06-.94-.94-2.06-.94 2.06-2.06.94z\"/><path d=\"M17.41 7.96l-1.37-1.37c-.4-.4-.92-.59-1.43-.59-.52 0-1.04.2-1.43.59L10.3 9.45l-7.72 7.72c-.78.78-.78 2.05 0 2.83L4 21.41c.39.39.9.59 1.41.59.51 0 1.02-.2 1.41-.59l7.78-7.78 2.81-2.81c.8-.78.8-2.07 0-2.86zM5.41 20L4 18.59l7.72-7.72 1.47 1.35L5.41 20z\"/>\n",
       "  </svg>\n",
       "      </button>\n",
       "      \n",
       "  <style>\n",
       "    .colab-df-container {\n",
       "      display:flex;\n",
       "      flex-wrap:wrap;\n",
       "      gap: 12px;\n",
       "    }\n",
       "\n",
       "    .colab-df-convert {\n",
       "      background-color: #E8F0FE;\n",
       "      border: none;\n",
       "      border-radius: 50%;\n",
       "      cursor: pointer;\n",
       "      display: none;\n",
       "      fill: #1967D2;\n",
       "      height: 32px;\n",
       "      padding: 0 0 0 0;\n",
       "      width: 32px;\n",
       "    }\n",
       "\n",
       "    .colab-df-convert:hover {\n",
       "      background-color: #E2EBFA;\n",
       "      box-shadow: 0px 1px 2px rgba(60, 64, 67, 0.3), 0px 1px 3px 1px rgba(60, 64, 67, 0.15);\n",
       "      fill: #174EA6;\n",
       "    }\n",
       "\n",
       "    [theme=dark] .colab-df-convert {\n",
       "      background-color: #3B4455;\n",
       "      fill: #D2E3FC;\n",
       "    }\n",
       "\n",
       "    [theme=dark] .colab-df-convert:hover {\n",
       "      background-color: #434B5C;\n",
       "      box-shadow: 0px 1px 3px 1px rgba(0, 0, 0, 0.15);\n",
       "      filter: drop-shadow(0px 1px 2px rgba(0, 0, 0, 0.3));\n",
       "      fill: #FFFFFF;\n",
       "    }\n",
       "  </style>\n",
       "\n",
       "      <script>\n",
       "        const buttonEl =\n",
       "          document.querySelector('#df-2170ada9-fcad-4edb-a2a8-555251324e7d button.colab-df-convert');\n",
       "        buttonEl.style.display =\n",
       "          google.colab.kernel.accessAllowed ? 'block' : 'none';\n",
       "\n",
       "        async function convertToInteractive(key) {\n",
       "          const element = document.querySelector('#df-2170ada9-fcad-4edb-a2a8-555251324e7d');\n",
       "          const dataTable =\n",
       "            await google.colab.kernel.invokeFunction('convertToInteractive',\n",
       "                                                     [key], {});\n",
       "          if (!dataTable) return;\n",
       "\n",
       "          const docLinkHtml = 'Like what you see? Visit the ' +\n",
       "            '<a target=\"_blank\" href=https://colab.research.google.com/notebooks/data_table.ipynb>data table notebook</a>'\n",
       "            + ' to learn more about interactive tables.';\n",
       "          element.innerHTML = '';\n",
       "          dataTable['output_type'] = 'display_data';\n",
       "          await google.colab.output.renderOutput(dataTable, element);\n",
       "          const docLink = document.createElement('div');\n",
       "          docLink.innerHTML = docLinkHtml;\n",
       "          element.appendChild(docLink);\n",
       "        }\n",
       "      </script>\n",
       "    </div>\n",
       "  </div>\n",
       "  "
      ],
      "text/plain": [
       "            Date Weather  Temperature PM2.5 Timeslot\n",
       "0     2016-01-05       4         12.0   170        1\n",
       "1     2016-01-05       8         12.0   170        2\n",
       "2     2016-01-05       4         12.0   170        3\n",
       "3     2016-01-05       4         12.0   170        4\n",
       "4     2016-01-05       4         12.0   165        5\n",
       "...          ...     ...          ...   ...      ...\n",
       "3019  2016-01-15       2          5.0   134      140\n",
       "3020  2016-01-15       2          5.0   134      141\n",
       "3021  2016-01-15       2          5.0   134      142\n",
       "3022  2016-01-15       2          5.0   132      143\n",
       "3023  2016-01-15       2          5.0   132      144\n",
       "\n",
       "[3024 rows x 5 columns]"
      ]
     },
     "execution_count": 168,
     "metadata": {},
     "output_type": "execute_result"
    }
   ],
   "source": [
    "# Displaying Weather Data\n",
    "weather_data"
   ]
  },
  {
   "cell_type": "code",
   "execution_count": null,
   "metadata": {
    "id": "Bj7lahPkAx40"
   },
   "outputs": [],
   "source": [
    "def date_to_weekday(date_str):\n",
    "    date_obj = datetime.strptime(date_str, '%Y-%m-%d')\n",
    "    weekday_num = date_obj.weekday()\n",
    "    return weekday_num"
   ]
  },
  {
   "cell_type": "code",
   "execution_count": null,
   "metadata": {
    "id": "hkUD6s56AzMn"
   },
   "outputs": [],
   "source": [
    "# Creating Denormalized Table\n",
    "denorm = pd.merge(gap_data, weather_data, on=['Date','Timeslot'], how='inner')\n",
    "denorm = pd.merge(denorm, poi_data, left_on='region_hash', right_on='region_hash', how='inner')\n",
    "denorm['Weekday'] = denorm['Date'].apply(date_to_weekday)\n",
    "# Cleaning Denormalized Table\n",
    "denorm = denorm.drop(['region_hash'],axis=1)\n",
    "denorm = denorm.drop(['Date'],axis=1)\n",
    "denorm = denorm.sort_values(by=['region_id', 'Weekday', 'Timeslot']).reset_index(drop=True)"
   ]
  },
  {
   "cell_type": "code",
   "execution_count": null,
   "metadata": {
    "colab": {
     "base_uri": "https://localhost:8080/",
     "height": 522
    },
    "id": "htDP5hDaBn5B",
    "outputId": "f57dfd5a-83b3-4477-e35c-ade3618deacf"
   },
   "outputs": [
    {
     "data": {
      "text/html": [
       "\n",
       "  <div id=\"df-442f09f3-b46d-4439-832d-b0d7a1bde4c5\">\n",
       "    <div class=\"colab-df-container\">\n",
       "      <div>\n",
       "<style scoped>\n",
       "    .dataframe tbody tr th:only-of-type {\n",
       "        vertical-align: middle;\n",
       "    }\n",
       "\n",
       "    .dataframe tbody tr th {\n",
       "        vertical-align: top;\n",
       "    }\n",
       "\n",
       "    .dataframe thead th {\n",
       "        text-align: right;\n",
       "    }\n",
       "</style>\n",
       "<table border=\"1\" class=\"dataframe\">\n",
       "  <thead>\n",
       "    <tr style=\"text-align: right;\">\n",
       "      <th></th>\n",
       "      <th>region_id</th>\n",
       "      <th>Timeslot</th>\n",
       "      <th>Average Price</th>\n",
       "      <th>Demand-Supply Gap</th>\n",
       "      <th>Weather</th>\n",
       "      <th>Temperature</th>\n",
       "      <th>PM2.5</th>\n",
       "      <th>Class-25</th>\n",
       "      <th>Class-14</th>\n",
       "      <th>Class-1</th>\n",
       "      <th>...</th>\n",
       "      <th>Class-6</th>\n",
       "      <th>Class-18</th>\n",
       "      <th>Class-24</th>\n",
       "      <th>Class-2</th>\n",
       "      <th>Class-19</th>\n",
       "      <th>Class-10</th>\n",
       "      <th>Class-17</th>\n",
       "      <th>Class-21</th>\n",
       "      <th>Class-15</th>\n",
       "      <th>Weekday</th>\n",
       "    </tr>\n",
       "  </thead>\n",
       "  <tbody>\n",
       "    <tr>\n",
       "      <th>0</th>\n",
       "      <td>1</td>\n",
       "      <td>1</td>\n",
       "      <td>15.750000</td>\n",
       "      <td>3</td>\n",
       "      <td>2</td>\n",
       "      <td>13.0</td>\n",
       "      <td>187</td>\n",
       "      <td>8051</td>\n",
       "      <td>4565</td>\n",
       "      <td>105161</td>\n",
       "      <td>...</td>\n",
       "      <td>57353</td>\n",
       "      <td>996</td>\n",
       "      <td>65653</td>\n",
       "      <td>78186</td>\n",
       "      <td>76775</td>\n",
       "      <td>13280</td>\n",
       "      <td>25315</td>\n",
       "      <td>0</td>\n",
       "      <td>12782</td>\n",
       "      <td>0</td>\n",
       "    </tr>\n",
       "    <tr>\n",
       "      <th>1</th>\n",
       "      <td>1</td>\n",
       "      <td>1</td>\n",
       "      <td>11.880952</td>\n",
       "      <td>11</td>\n",
       "      <td>4</td>\n",
       "      <td>8.0</td>\n",
       "      <td>121</td>\n",
       "      <td>8051</td>\n",
       "      <td>4565</td>\n",
       "      <td>105161</td>\n",
       "      <td>...</td>\n",
       "      <td>57353</td>\n",
       "      <td>996</td>\n",
       "      <td>65653</td>\n",
       "      <td>78186</td>\n",
       "      <td>76775</td>\n",
       "      <td>13280</td>\n",
       "      <td>25315</td>\n",
       "      <td>0</td>\n",
       "      <td>12782</td>\n",
       "      <td>0</td>\n",
       "    </tr>\n",
       "    <tr>\n",
       "      <th>2</th>\n",
       "      <td>1</td>\n",
       "      <td>1</td>\n",
       "      <td>19.375000</td>\n",
       "      <td>7</td>\n",
       "      <td>3</td>\n",
       "      <td>3.0</td>\n",
       "      <td>88</td>\n",
       "      <td>8051</td>\n",
       "      <td>4565</td>\n",
       "      <td>105161</td>\n",
       "      <td>...</td>\n",
       "      <td>57353</td>\n",
       "      <td>996</td>\n",
       "      <td>65653</td>\n",
       "      <td>78186</td>\n",
       "      <td>76775</td>\n",
       "      <td>13280</td>\n",
       "      <td>25315</td>\n",
       "      <td>0</td>\n",
       "      <td>12782</td>\n",
       "      <td>0</td>\n",
       "    </tr>\n",
       "    <tr>\n",
       "      <th>3</th>\n",
       "      <td>1</td>\n",
       "      <td>2</td>\n",
       "      <td>13.404255</td>\n",
       "      <td>5</td>\n",
       "      <td>2</td>\n",
       "      <td>13.0</td>\n",
       "      <td>187</td>\n",
       "      <td>8051</td>\n",
       "      <td>4565</td>\n",
       "      <td>105161</td>\n",
       "      <td>...</td>\n",
       "      <td>57353</td>\n",
       "      <td>996</td>\n",
       "      <td>65653</td>\n",
       "      <td>78186</td>\n",
       "      <td>76775</td>\n",
       "      <td>13280</td>\n",
       "      <td>25315</td>\n",
       "      <td>0</td>\n",
       "      <td>12782</td>\n",
       "      <td>0</td>\n",
       "    </tr>\n",
       "    <tr>\n",
       "      <th>4</th>\n",
       "      <td>1</td>\n",
       "      <td>2</td>\n",
       "      <td>10.612903</td>\n",
       "      <td>8</td>\n",
       "      <td>4</td>\n",
       "      <td>8.0</td>\n",
       "      <td>121</td>\n",
       "      <td>8051</td>\n",
       "      <td>4565</td>\n",
       "      <td>105161</td>\n",
       "      <td>...</td>\n",
       "      <td>57353</td>\n",
       "      <td>996</td>\n",
       "      <td>65653</td>\n",
       "      <td>78186</td>\n",
       "      <td>76775</td>\n",
       "      <td>13280</td>\n",
       "      <td>25315</td>\n",
       "      <td>0</td>\n",
       "      <td>12782</td>\n",
       "      <td>0</td>\n",
       "    </tr>\n",
       "    <tr>\n",
       "      <th>...</th>\n",
       "      <td>...</td>\n",
       "      <td>...</td>\n",
       "      <td>...</td>\n",
       "      <td>...</td>\n",
       "      <td>...</td>\n",
       "      <td>...</td>\n",
       "      <td>...</td>\n",
       "      <td>...</td>\n",
       "      <td>...</td>\n",
       "      <td>...</td>\n",
       "      <td>...</td>\n",
       "      <td>...</td>\n",
       "      <td>...</td>\n",
       "      <td>...</td>\n",
       "      <td>...</td>\n",
       "      <td>...</td>\n",
       "      <td>...</td>\n",
       "      <td>...</td>\n",
       "      <td>...</td>\n",
       "      <td>...</td>\n",
       "      <td>...</td>\n",
       "    </tr>\n",
       "    <tr>\n",
       "      <th>163486</th>\n",
       "      <td>66</td>\n",
       "      <td>143</td>\n",
       "      <td>9.000000</td>\n",
       "      <td>0</td>\n",
       "      <td>4</td>\n",
       "      <td>8.0</td>\n",
       "      <td>121</td>\n",
       "      <td>3652</td>\n",
       "      <td>4648</td>\n",
       "      <td>15604</td>\n",
       "      <td>...</td>\n",
       "      <td>12450</td>\n",
       "      <td>664</td>\n",
       "      <td>3154</td>\n",
       "      <td>15687</td>\n",
       "      <td>14940</td>\n",
       "      <td>3569</td>\n",
       "      <td>4067</td>\n",
       "      <td>581</td>\n",
       "      <td>13280</td>\n",
       "      <td>6</td>\n",
       "    </tr>\n",
       "    <tr>\n",
       "      <th>163487</th>\n",
       "      <td>66</td>\n",
       "      <td>143</td>\n",
       "      <td>12.444444</td>\n",
       "      <td>0</td>\n",
       "      <td>2</td>\n",
       "      <td>14.0</td>\n",
       "      <td>187</td>\n",
       "      <td>3652</td>\n",
       "      <td>4648</td>\n",
       "      <td>15604</td>\n",
       "      <td>...</td>\n",
       "      <td>12450</td>\n",
       "      <td>664</td>\n",
       "      <td>3154</td>\n",
       "      <td>15687</td>\n",
       "      <td>14940</td>\n",
       "      <td>3569</td>\n",
       "      <td>4067</td>\n",
       "      <td>581</td>\n",
       "      <td>13280</td>\n",
       "      <td>6</td>\n",
       "    </tr>\n",
       "    <tr>\n",
       "      <th>163488</th>\n",
       "      <td>66</td>\n",
       "      <td>144</td>\n",
       "      <td>8.000000</td>\n",
       "      <td>0</td>\n",
       "      <td>2</td>\n",
       "      <td>13.0</td>\n",
       "      <td>187</td>\n",
       "      <td>3652</td>\n",
       "      <td>4648</td>\n",
       "      <td>15604</td>\n",
       "      <td>...</td>\n",
       "      <td>12450</td>\n",
       "      <td>664</td>\n",
       "      <td>3154</td>\n",
       "      <td>15687</td>\n",
       "      <td>14940</td>\n",
       "      <td>3569</td>\n",
       "      <td>4067</td>\n",
       "      <td>581</td>\n",
       "      <td>13280</td>\n",
       "      <td>6</td>\n",
       "    </tr>\n",
       "    <tr>\n",
       "      <th>163489</th>\n",
       "      <td>66</td>\n",
       "      <td>144</td>\n",
       "      <td>6.500000</td>\n",
       "      <td>0</td>\n",
       "      <td>4</td>\n",
       "      <td>8.0</td>\n",
       "      <td>121</td>\n",
       "      <td>3652</td>\n",
       "      <td>4648</td>\n",
       "      <td>15604</td>\n",
       "      <td>...</td>\n",
       "      <td>12450</td>\n",
       "      <td>664</td>\n",
       "      <td>3154</td>\n",
       "      <td>15687</td>\n",
       "      <td>14940</td>\n",
       "      <td>3569</td>\n",
       "      <td>4067</td>\n",
       "      <td>581</td>\n",
       "      <td>13280</td>\n",
       "      <td>6</td>\n",
       "    </tr>\n",
       "    <tr>\n",
       "      <th>163490</th>\n",
       "      <td>66</td>\n",
       "      <td>144</td>\n",
       "      <td>7.000000</td>\n",
       "      <td>0</td>\n",
       "      <td>3</td>\n",
       "      <td>3.0</td>\n",
       "      <td>88</td>\n",
       "      <td>3652</td>\n",
       "      <td>4648</td>\n",
       "      <td>15604</td>\n",
       "      <td>...</td>\n",
       "      <td>12450</td>\n",
       "      <td>664</td>\n",
       "      <td>3154</td>\n",
       "      <td>15687</td>\n",
       "      <td>14940</td>\n",
       "      <td>3569</td>\n",
       "      <td>4067</td>\n",
       "      <td>581</td>\n",
       "      <td>13280</td>\n",
       "      <td>6</td>\n",
       "    </tr>\n",
       "  </tbody>\n",
       "</table>\n",
       "<p>163491 rows × 33 columns</p>\n",
       "</div>\n",
       "      <button class=\"colab-df-convert\" onclick=\"convertToInteractive('df-442f09f3-b46d-4439-832d-b0d7a1bde4c5')\"\n",
       "              title=\"Convert this dataframe to an interactive table.\"\n",
       "              style=\"display:none;\">\n",
       "        \n",
       "  <svg xmlns=\"http://www.w3.org/2000/svg\" height=\"24px\"viewBox=\"0 0 24 24\"\n",
       "       width=\"24px\">\n",
       "    <path d=\"M0 0h24v24H0V0z\" fill=\"none\"/>\n",
       "    <path d=\"M18.56 5.44l.94 2.06.94-2.06 2.06-.94-2.06-.94-.94-2.06-.94 2.06-2.06.94zm-11 1L8.5 8.5l.94-2.06 2.06-.94-2.06-.94L8.5 2.5l-.94 2.06-2.06.94zm10 10l.94 2.06.94-2.06 2.06-.94-2.06-.94-.94-2.06-.94 2.06-2.06.94z\"/><path d=\"M17.41 7.96l-1.37-1.37c-.4-.4-.92-.59-1.43-.59-.52 0-1.04.2-1.43.59L10.3 9.45l-7.72 7.72c-.78.78-.78 2.05 0 2.83L4 21.41c.39.39.9.59 1.41.59.51 0 1.02-.2 1.41-.59l7.78-7.78 2.81-2.81c.8-.78.8-2.07 0-2.86zM5.41 20L4 18.59l7.72-7.72 1.47 1.35L5.41 20z\"/>\n",
       "  </svg>\n",
       "      </button>\n",
       "      \n",
       "  <style>\n",
       "    .colab-df-container {\n",
       "      display:flex;\n",
       "      flex-wrap:wrap;\n",
       "      gap: 12px;\n",
       "    }\n",
       "\n",
       "    .colab-df-convert {\n",
       "      background-color: #E8F0FE;\n",
       "      border: none;\n",
       "      border-radius: 50%;\n",
       "      cursor: pointer;\n",
       "      display: none;\n",
       "      fill: #1967D2;\n",
       "      height: 32px;\n",
       "      padding: 0 0 0 0;\n",
       "      width: 32px;\n",
       "    }\n",
       "\n",
       "    .colab-df-convert:hover {\n",
       "      background-color: #E2EBFA;\n",
       "      box-shadow: 0px 1px 2px rgba(60, 64, 67, 0.3), 0px 1px 3px 1px rgba(60, 64, 67, 0.15);\n",
       "      fill: #174EA6;\n",
       "    }\n",
       "\n",
       "    [theme=dark] .colab-df-convert {\n",
       "      background-color: #3B4455;\n",
       "      fill: #D2E3FC;\n",
       "    }\n",
       "\n",
       "    [theme=dark] .colab-df-convert:hover {\n",
       "      background-color: #434B5C;\n",
       "      box-shadow: 0px 1px 3px 1px rgba(0, 0, 0, 0.15);\n",
       "      filter: drop-shadow(0px 1px 2px rgba(0, 0, 0, 0.3));\n",
       "      fill: #FFFFFF;\n",
       "    }\n",
       "  </style>\n",
       "\n",
       "      <script>\n",
       "        const buttonEl =\n",
       "          document.querySelector('#df-442f09f3-b46d-4439-832d-b0d7a1bde4c5 button.colab-df-convert');\n",
       "        buttonEl.style.display =\n",
       "          google.colab.kernel.accessAllowed ? 'block' : 'none';\n",
       "\n",
       "        async function convertToInteractive(key) {\n",
       "          const element = document.querySelector('#df-442f09f3-b46d-4439-832d-b0d7a1bde4c5');\n",
       "          const dataTable =\n",
       "            await google.colab.kernel.invokeFunction('convertToInteractive',\n",
       "                                                     [key], {});\n",
       "          if (!dataTable) return;\n",
       "\n",
       "          const docLinkHtml = 'Like what you see? Visit the ' +\n",
       "            '<a target=\"_blank\" href=https://colab.research.google.com/notebooks/data_table.ipynb>data table notebook</a>'\n",
       "            + ' to learn more about interactive tables.';\n",
       "          element.innerHTML = '';\n",
       "          dataTable['output_type'] = 'display_data';\n",
       "          await google.colab.output.renderOutput(dataTable, element);\n",
       "          const docLink = document.createElement('div');\n",
       "          docLink.innerHTML = docLinkHtml;\n",
       "          element.appendChild(docLink);\n",
       "        }\n",
       "      </script>\n",
       "    </div>\n",
       "  </div>\n",
       "  "
      ],
      "text/plain": [
       "        region_id Timeslot  Average Price  Demand-Supply Gap Weather  \\\n",
       "0               1        1      15.750000                  3       2   \n",
       "1               1        1      11.880952                 11       4   \n",
       "2               1        1      19.375000                  7       3   \n",
       "3               1        2      13.404255                  5       2   \n",
       "4               1        2      10.612903                  8       4   \n",
       "...           ...      ...            ...                ...     ...   \n",
       "163486         66      143       9.000000                  0       4   \n",
       "163487         66      143      12.444444                  0       2   \n",
       "163488         66      144       8.000000                  0       2   \n",
       "163489         66      144       6.500000                  0       4   \n",
       "163490         66      144       7.000000                  0       3   \n",
       "\n",
       "        Temperature PM2.5  Class-25  Class-14  Class-1  ...  Class-6  \\\n",
       "0              13.0   187      8051      4565   105161  ...    57353   \n",
       "1               8.0   121      8051      4565   105161  ...    57353   \n",
       "2               3.0    88      8051      4565   105161  ...    57353   \n",
       "3              13.0   187      8051      4565   105161  ...    57353   \n",
       "4               8.0   121      8051      4565   105161  ...    57353   \n",
       "...             ...   ...       ...       ...      ...  ...      ...   \n",
       "163486          8.0   121      3652      4648    15604  ...    12450   \n",
       "163487         14.0   187      3652      4648    15604  ...    12450   \n",
       "163488         13.0   187      3652      4648    15604  ...    12450   \n",
       "163489          8.0   121      3652      4648    15604  ...    12450   \n",
       "163490          3.0    88      3652      4648    15604  ...    12450   \n",
       "\n",
       "        Class-18  Class-24  Class-2  Class-19  Class-10  Class-17  Class-21  \\\n",
       "0            996     65653    78186     76775     13280     25315         0   \n",
       "1            996     65653    78186     76775     13280     25315         0   \n",
       "2            996     65653    78186     76775     13280     25315         0   \n",
       "3            996     65653    78186     76775     13280     25315         0   \n",
       "4            996     65653    78186     76775     13280     25315         0   \n",
       "...          ...       ...      ...       ...       ...       ...       ...   \n",
       "163486       664      3154    15687     14940      3569      4067       581   \n",
       "163487       664      3154    15687     14940      3569      4067       581   \n",
       "163488       664      3154    15687     14940      3569      4067       581   \n",
       "163489       664      3154    15687     14940      3569      4067       581   \n",
       "163490       664      3154    15687     14940      3569      4067       581   \n",
       "\n",
       "        Class-15  Weekday  \n",
       "0          12782        0  \n",
       "1          12782        0  \n",
       "2          12782        0  \n",
       "3          12782        0  \n",
       "4          12782        0  \n",
       "...          ...      ...  \n",
       "163486     13280        6  \n",
       "163487     13280        6  \n",
       "163488     13280        6  \n",
       "163489     13280        6  \n",
       "163490     13280        6  \n",
       "\n",
       "[163491 rows x 33 columns]"
      ]
     },
     "execution_count": 84,
     "metadata": {},
     "output_type": "execute_result"
    }
   ],
   "source": [
    "# Denormalized Table\n",
    "denorm"
   ]
  },
  {
   "cell_type": "code",
   "execution_count": null,
   "metadata": {
    "id": "eQIuV-brCuVt"
   },
   "outputs": [],
   "source": [
    "#Splitting Independent and Dependent Features\n",
    "\n",
    "y = np.array(denorm['Demand-Supply Gap'])\n",
    "x = np.array(denorm.drop(['Demand-Supply Gap'],axis=1))"
   ]
  },
  {
   "cell_type": "code",
   "execution_count": null,
   "metadata": {
    "id": "9nfwXDykEDa4"
   },
   "outputs": [],
   "source": [
    "#Splitting Data into Training and Testing\n",
    "\n",
    "x_train, x_test, y_train, y_test = train_test_split(x,y,test_size=0.3,random_state=0)"
   ]
  },
  {
   "cell_type": "code",
   "execution_count": null,
   "metadata": {
    "id": "TyAdbSd2Hzfp"
   },
   "outputs": [],
   "source": [
    "#Labeling Test Data for Later\n",
    "\n",
    "testData = pd.DataFrame(x_test)\n",
    "testData = testData.iloc[:, [0,1]]\n",
    "testData.columns = ['region_id','Timeslot']\n",
    "testData['gap'] = y_test"
   ]
  },
  {
   "cell_type": "code",
   "execution_count": null,
   "metadata": {
    "id": "SVq6led5f6sT"
   },
   "outputs": [],
   "source": [
    "# Model Evaluation\n",
    "def meanAbsoluteError(prediction, target):\n",
    "    \n",
    "    sums = []\n",
    "    vals = []\n",
    "    sum = 0\n",
    "    reg = 0\n",
    "    for i in range(0,66):\n",
    "      sums.append(0)\n",
    "      vals.append(0)\n",
    "\n",
    "    for index,row in target.iterrows():\n",
    "\n",
    "      sums[row['region_id']-1]+= abs(row['gap']-prediction[index])\n",
    "      vals[row['region_id']-1]+=1\n",
    "\n",
    "    for i,j in zip(sums,vals):\n",
    "\n",
    "      if j!=0:\n",
    "        sum+=(i/j)\n",
    "        reg+=1\n",
    "\n",
    "\n",
    "    return sum/reg"
   ]
  },
  {
   "cell_type": "code",
   "execution_count": null,
   "metadata": {
    "id": "uUPmN66rcHAV"
   },
   "outputs": [],
   "source": [
    "# Function to plot learning curve\n",
    "def plot_learning_curve(train_sizes, train_scores, test_scores, title, alpha=0.1):\n",
    "    train_mean = -np.mean(train_scores, axis=1)\n",
    "    train_std = np.std(train_scores, axis=1)\n",
    "    test_mean = -np.mean(test_scores, axis=1)\n",
    "    test_std = np.std(test_scores, axis=1)\n",
    "    plt.plot(train_sizes, train_mean, label='train score', color='blue', marker='o')\n",
    "    plt.fill_between(train_sizes, train_mean + train_std,\n",
    "                     train_mean - train_std, color='blue', alpha=alpha)\n",
    "    plt.plot(train_sizes, test_mean, label='test score', color='red', marker='o')\n",
    "\n",
    "    plt.fill_between(train_sizes, test_mean + test_std, test_mean - test_std, color='red', alpha=alpha)\n",
    "    plt.title(title)\n",
    "    plt.xlabel('Number of training points')\n",
    "    plt.ylabel('Mean Absolute Error')\n",
    "    plt.grid(ls='--')\n",
    "    plt.legend(loc='best')\n",
    "    plt.show()"
   ]
  },
  {
   "cell_type": "code",
   "execution_count": null,
   "metadata": {
    "colab": {
     "base_uri": "https://localhost:8080/",
     "height": 74
    },
    "id": "gX30j6tpUayZ",
    "outputId": "621ee7bd-2053-4ea6-f077-373bbb857edb"
   },
   "outputs": [
    {
     "data": {
      "text/html": [
       "<style>#sk-container-id-5 {color: black;background-color: white;}#sk-container-id-5 pre{padding: 0;}#sk-container-id-5 div.sk-toggleable {background-color: white;}#sk-container-id-5 label.sk-toggleable__label {cursor: pointer;display: block;width: 100%;margin-bottom: 0;padding: 0.3em;box-sizing: border-box;text-align: center;}#sk-container-id-5 label.sk-toggleable__label-arrow:before {content: \"▸\";float: left;margin-right: 0.25em;color: #696969;}#sk-container-id-5 label.sk-toggleable__label-arrow:hover:before {color: black;}#sk-container-id-5 div.sk-estimator:hover label.sk-toggleable__label-arrow:before {color: black;}#sk-container-id-5 div.sk-toggleable__content {max-height: 0;max-width: 0;overflow: hidden;text-align: left;background-color: #f0f8ff;}#sk-container-id-5 div.sk-toggleable__content pre {margin: 0.2em;color: black;border-radius: 0.25em;background-color: #f0f8ff;}#sk-container-id-5 input.sk-toggleable__control:checked~div.sk-toggleable__content {max-height: 200px;max-width: 100%;overflow: auto;}#sk-container-id-5 input.sk-toggleable__control:checked~label.sk-toggleable__label-arrow:before {content: \"▾\";}#sk-container-id-5 div.sk-estimator input.sk-toggleable__control:checked~label.sk-toggleable__label {background-color: #d4ebff;}#sk-container-id-5 div.sk-label input.sk-toggleable__control:checked~label.sk-toggleable__label {background-color: #d4ebff;}#sk-container-id-5 input.sk-hidden--visually {border: 0;clip: rect(1px 1px 1px 1px);clip: rect(1px, 1px, 1px, 1px);height: 1px;margin: -1px;overflow: hidden;padding: 0;position: absolute;width: 1px;}#sk-container-id-5 div.sk-estimator {font-family: monospace;background-color: #f0f8ff;border: 1px dotted black;border-radius: 0.25em;box-sizing: border-box;margin-bottom: 0.5em;}#sk-container-id-5 div.sk-estimator:hover {background-color: #d4ebff;}#sk-container-id-5 div.sk-parallel-item::after {content: \"\";width: 100%;border-bottom: 1px solid gray;flex-grow: 1;}#sk-container-id-5 div.sk-label:hover label.sk-toggleable__label {background-color: #d4ebff;}#sk-container-id-5 div.sk-serial::before {content: \"\";position: absolute;border-left: 1px solid gray;box-sizing: border-box;top: 0;bottom: 0;left: 50%;z-index: 0;}#sk-container-id-5 div.sk-serial {display: flex;flex-direction: column;align-items: center;background-color: white;padding-right: 0.2em;padding-left: 0.2em;position: relative;}#sk-container-id-5 div.sk-item {position: relative;z-index: 1;}#sk-container-id-5 div.sk-parallel {display: flex;align-items: stretch;justify-content: center;background-color: white;position: relative;}#sk-container-id-5 div.sk-item::before, #sk-container-id-5 div.sk-parallel-item::before {content: \"\";position: absolute;border-left: 1px solid gray;box-sizing: border-box;top: 0;bottom: 0;left: 50%;z-index: -1;}#sk-container-id-5 div.sk-parallel-item {display: flex;flex-direction: column;z-index: 1;position: relative;background-color: white;}#sk-container-id-5 div.sk-parallel-item:first-child::after {align-self: flex-end;width: 50%;}#sk-container-id-5 div.sk-parallel-item:last-child::after {align-self: flex-start;width: 50%;}#sk-container-id-5 div.sk-parallel-item:only-child::after {width: 0;}#sk-container-id-5 div.sk-dashed-wrapped {border: 1px dashed gray;margin: 0 0.4em 0.5em 0.4em;box-sizing: border-box;padding-bottom: 0.4em;background-color: white;}#sk-container-id-5 div.sk-label label {font-family: monospace;font-weight: bold;display: inline-block;line-height: 1.2em;}#sk-container-id-5 div.sk-label-container {text-align: center;}#sk-container-id-5 div.sk-container {/* jupyter's `normalize.less` sets `[hidden] { display: none; }` but bootstrap.min.css set `[hidden] { display: none !important; }` so we also need the `!important` here to be able to override the default hidden behavior on the sphinx rendered scikit-learn.org. See: https://github.com/scikit-learn/scikit-learn/issues/21755 */display: inline-block !important;position: relative;}#sk-container-id-5 div.sk-text-repr-fallback {display: none;}</style><div id=\"sk-container-id-5\" class=\"sk-top-container\"><div class=\"sk-text-repr-fallback\"><pre>LinearRegression()</pre><b>In a Jupyter environment, please rerun this cell to show the HTML representation or trust the notebook. <br />On GitHub, the HTML representation is unable to render, please try loading this page with nbviewer.org.</b></div><div class=\"sk-container\" hidden><div class=\"sk-item\"><div class=\"sk-estimator sk-toggleable\"><input class=\"sk-toggleable__control sk-hidden--visually\" id=\"sk-estimator-id-5\" type=\"checkbox\" checked><label for=\"sk-estimator-id-5\" class=\"sk-toggleable__label sk-toggleable__label-arrow\">LinearRegression</label><div class=\"sk-toggleable__content\"><pre>LinearRegression()</pre></div></div></div></div></div>"
      ],
      "text/plain": [
       "LinearRegression()"
      ]
     },
     "execution_count": 132,
     "metadata": {},
     "output_type": "execute_result"
    }
   ],
   "source": [
    "# Using Linear Regression Model\n",
    "from sklearn.linear_model import LinearRegression\n",
    "\n",
    "linRegression = LinearRegression()\n",
    "linRegression.fit(x_train, y_train)"
   ]
  },
  {
   "cell_type": "code",
   "execution_count": null,
   "metadata": {
    "id": "g_NupjTmUhUc"
   },
   "outputs": [],
   "source": [
    "# Predicting Data Using Linear Regression Model\n",
    "preds_linearR = linRegression.predict(x_test)"
   ]
  },
  {
   "cell_type": "code",
   "execution_count": null,
   "metadata": {
    "colab": {
     "base_uri": "https://localhost:8080/"
    },
    "id": "fnPBv4vUUhbb",
    "outputId": "d4c5e43f-5006-4a4c-e341-ce9b41c5592e"
   },
   "outputs": [
    {
     "name": "stdout",
     "output_type": "stream",
     "text": [
      "Error in Linear Regression Model: 10.221152975639576\n"
     ]
    }
   ],
   "source": [
    "# Printing Mean Absolute Error in Linear Regression Model\n",
    "error = meanAbsoluteError(preds_linearR,testData)\n",
    "print(f'Error in Linear Regression Model: {error}')"
   ]
  },
  {
   "cell_type": "code",
   "execution_count": null,
   "metadata": {
    "colab": {
     "base_uri": "https://localhost:8080/"
    },
    "id": "6FGm1RsWUhh4",
    "outputId": "bc198fc0-6e3a-4e7d-f5d8-87e5f0afd0f0"
   },
   "outputs": [
    {
     "name": "stdout",
     "output_type": "stream",
     "text": [
      "Accuracy of Linear Regression Model: 14.86%\n"
     ]
    }
   ],
   "source": [
    "# Accuracy of Linear Regression Model\n",
    "print(f'Accuracy of Linear Regression Model: {(linRegression.score(x_test,y_test)*100):.2f}%')"
   ]
  },
  {
   "cell_type": "code",
   "execution_count": null,
   "metadata": {
    "colab": {
     "base_uri": "https://localhost:8080/",
     "height": 469
    },
    "id": "nYp87bXzrL3i",
    "outputId": "31a9ec12-5c04-418f-b1eb-65847978cb64"
   },
   "outputs": [
    {
     "data": {
      "text/plain": [
       "<matplotlib.legend.Legend at 0x7fa251791d90>"
      ]
     },
     "execution_count": 176,
     "metadata": {},
     "output_type": "execute_result"
    },
    {
     "data": {
      "image/png": "[encoded data removed]",
      "text/plain": [
       "<Figure size 640x480 with 1 Axes>"
      ]
     },
     "metadata": {},
     "output_type": "display_data"
    }
   ],
   "source": [
    "# Plotting Actual v/s Predicted Data Using Linear Regression Model\n",
    "plotData = testData\n",
    "plotData['preds'] = preds_linearR\n",
    "\n",
    "plt.plot(plotData.index, plotData['gap'], color='blue', label='Actual')\n",
    "plt.plot(plotData.index, plotData['preds'], color='green', label='Predicted')\n",
    "plt.title('Actual v/s Predicted Values (Linear Regression Model)')\n",
    "plt.legend()"
   ]
  },
  {
   "cell_type": "code",
   "execution_count": null,
   "metadata": {
    "colab": {
     "base_uri": "https://localhost:8080/",
     "height": 472
    },
    "id": "lvCLLHWmVJmI",
    "outputId": "5c8caced-b68a-4d43-a900-37113384511a"
   },
   "outputs": [
    {
     "data": {
      "image/png": "[encoded data removed]",
      "text/plain": [
       "<Figure size 640x480 with 1 Axes>"
      ]
     },
     "metadata": {},
     "output_type": "display_data"
    }
   ],
   "source": [
    "# Plotting Learning Curve for Linear Regression\n",
    "from sklearn.model_selection import learning_curve\n",
    "train_sizes, train_scores, test_scores = learning_curve(linRegression, x_train, y_train, cv=5, scoring='neg_mean_absolute_error', train_sizes=np.linspace(0.1, 1.0, 10))\n",
    "plot_learning_curve(train_sizes, train_scores, test_scores, 'Learning Curve for Linear Regression Model')"
   ]
  },
  {
   "cell_type": "code",
   "execution_count": null,
   "metadata": {
    "id": "SfHjr2YN_LW5"
   },
   "outputs": [],
   "source": [
    "# Using Decision Tree Regression Model\n",
    "from sklearn import tree\n",
    "decTree = tree.DecisionTreeRegressor(max_depth=25)\n",
    "decTree = decTree.fit(x_train, y_train)"
   ]
  },
  {
   "cell_type": "code",
   "execution_count": null,
   "metadata": {
    "id": "DY5k4mqK_Lfl"
   },
   "outputs": [],
   "source": [
    "# Predicting Data Using Decision Tree Regression Model\n",
    "preds_decTree = decTree.predict(x_test)"
   ]
  },
  {
   "cell_type": "code",
   "execution_count": null,
   "metadata": {
    "colab": {
     "base_uri": "https://localhost:8080/"
    },
    "id": "4KXiOEF0_Lo0",
    "outputId": "a40c2748-86f2-4beb-ff23-8bcbd1527bb0"
   },
   "outputs": [
    {
     "name": "stdout",
     "output_type": "stream",
     "text": [
      "Error in Decision Tree Regression Model: 4.354544990339788\n"
     ]
    }
   ],
   "source": [
    "# Printing Mean Absolute Error in Decision Tree Regression\n",
    "error = meanAbsoluteError(preds_decTree,testData)\n",
    "print(f'Error in Decision Tree Regression Model: {error}')"
   ]
  },
  {
   "cell_type": "code",
   "execution_count": null,
   "metadata": {
    "colab": {
     "base_uri": "https://localhost:8080/"
    },
    "id": "s17PRkk8sPqt",
    "outputId": "8ea2ab8c-ef06-4bcc-e293-638e0caace57"
   },
   "outputs": [
    {
     "name": "stdout",
     "output_type": "stream",
     "text": [
      "Accuracy of Decision Tree Regressor : 79.21%\n"
     ]
    }
   ],
   "source": [
    "# Accuracy of Decision Tree Regression Model\n",
    "print(f'Accuracy of Decision Tree Regressor : {(decTree.score(x_test,y_test)*100):.2f}%')"
   ]
  },
  {
   "cell_type": "code",
   "execution_count": null,
   "metadata": {
    "colab": {
     "base_uri": "https://localhost:8080/",
     "height": 472
    },
    "id": "RDtifszfWidc",
    "outputId": "bd2a1c81-0901-4cde-ce0c-0aa7811ebf2f"
   },
   "outputs": [
    {
     "data": {
      "image/png": "[encoded data removed]",
      "text/plain": [
       "<Figure size 640x480 with 1 Axes>"
      ]
     },
     "metadata": {},
     "output_type": "display_data"
    }
   ],
   "source": [
    "# Plotting Learning Curve for Decision Tree Regression\n",
    "from sklearn.model_selection import learning_curve\n",
    "train_sizes, train_scores, test_scores = learning_curve(decTree, x_train, y_train, cv=5, scoring='neg_mean_absolute_error', train_sizes=np.linspace(0.1, 1.0, 10))\n",
    "plot_learning_curve(train_sizes, train_scores, test_scores, 'Learning Curve for Decision Tree Model')"
   ]
  },
  {
   "cell_type": "code",
   "execution_count": null,
   "metadata": {
    "colab": {
     "base_uri": "https://localhost:8080/",
     "height": 469
    },
    "id": "Xr_FMY01_Lxb",
    "outputId": "c397e03c-c202-4758-c7cd-ca713a20a03f"
   },
   "outputs": [
    {
     "data": {
      "text/plain": [
       "<matplotlib.legend.Legend at 0x7fa1fdafe070>"
      ]
     },
     "execution_count": 175,
     "metadata": {},
     "output_type": "execute_result"
    },
    {
     "data": {
      "image/png": "[encoded data removed]",
      "text/plain": [
       "<Figure size 640x480 with 1 Axes>"
      ]
     },
     "metadata": {},
     "output_type": "display_data"
    }
   ],
   "source": [
    "# Plotting Actual v/s Predicted Data Using Decision Tree Regression Model\n",
    "plotData = testData\n",
    "plotData['preds'] = preds_decTree\n",
    "\n",
    "plt.plot(plotData.index, plotData['gap'], color='blue', label='Actual')\n",
    "plt.plot(plotData.index, plotData['preds'], color='green', label='Predicted')\n",
    "plt.title('Actual v/s Predicted Values (Decision Tree Regression Model)')\n",
    "plt.legend()"
   ]
  },
  {
   "cell_type": "code",
   "execution_count": 194,
   "metadata": {
    "colab": {
     "base_uri": "https://localhost:8080/",
     "height": 74
    },
    "id": "pLRE1wVZefXv",
    "outputId": "dff31774-2256-4898-dfb9-1f86a9580b4d"
   },
   "outputs": [
    {
     "data": {
      "text/html": [
       "<style>#sk-container-id-9 {color: black;background-color: white;}#sk-container-id-9 pre{padding: 0;}#sk-container-id-9 div.sk-toggleable {background-color: white;}#sk-container-id-9 label.sk-toggleable__label {cursor: pointer;display: block;width: 100%;margin-bottom: 0;padding: 0.3em;box-sizing: border-box;text-align: center;}#sk-container-id-9 label.sk-toggleable__label-arrow:before {content: \"▸\";float: left;margin-right: 0.25em;color: #696969;}#sk-container-id-9 label.sk-toggleable__label-arrow:hover:before {color: black;}#sk-container-id-9 div.sk-estimator:hover label.sk-toggleable__label-arrow:before {color: black;}#sk-container-id-9 div.sk-toggleable__content {max-height: 0;max-width: 0;overflow: hidden;text-align: left;background-color: #f0f8ff;}#sk-container-id-9 div.sk-toggleable__content pre {margin: 0.2em;color: black;border-radius: 0.25em;background-color: #f0f8ff;}#sk-container-id-9 input.sk-toggleable__control:checked~div.sk-toggleable__content {max-height: 200px;max-width: 100%;overflow: auto;}#sk-container-id-9 input.sk-toggleable__control:checked~label.sk-toggleable__label-arrow:before {content: \"▾\";}#sk-container-id-9 div.sk-estimator input.sk-toggleable__control:checked~label.sk-toggleable__label {background-color: #d4ebff;}#sk-container-id-9 div.sk-label input.sk-toggleable__control:checked~label.sk-toggleable__label {background-color: #d4ebff;}#sk-container-id-9 input.sk-hidden--visually {border: 0;clip: rect(1px 1px 1px 1px);clip: rect(1px, 1px, 1px, 1px);height: 1px;margin: -1px;overflow: hidden;padding: 0;position: absolute;width: 1px;}#sk-container-id-9 div.sk-estimator {font-family: monospace;background-color: #f0f8ff;border: 1px dotted black;border-radius: 0.25em;box-sizing: border-box;margin-bottom: 0.5em;}#sk-container-id-9 div.sk-estimator:hover {background-color: #d4ebff;}#sk-container-id-9 div.sk-parallel-item::after {content: \"\";width: 100%;border-bottom: 1px solid gray;flex-grow: 1;}#sk-container-id-9 div.sk-label:hover label.sk-toggleable__label {background-color: #d4ebff;}#sk-container-id-9 div.sk-serial::before {content: \"\";position: absolute;border-left: 1px solid gray;box-sizing: border-box;top: 0;bottom: 0;left: 50%;z-index: 0;}#sk-container-id-9 div.sk-serial {display: flex;flex-direction: column;align-items: center;background-color: white;padding-right: 0.2em;padding-left: 0.2em;position: relative;}#sk-container-id-9 div.sk-item {position: relative;z-index: 1;}#sk-container-id-9 div.sk-parallel {display: flex;align-items: stretch;justify-content: center;background-color: white;position: relative;}#sk-container-id-9 div.sk-item::before, #sk-container-id-9 div.sk-parallel-item::before {content: \"\";position: absolute;border-left: 1px solid gray;box-sizing: border-box;top: 0;bottom: 0;left: 50%;z-index: -1;}#sk-container-id-9 div.sk-parallel-item {display: flex;flex-direction: column;z-index: 1;position: relative;background-color: white;}#sk-container-id-9 div.sk-parallel-item:first-child::after {align-self: flex-end;width: 50%;}#sk-container-id-9 div.sk-parallel-item:last-child::after {align-self: flex-start;width: 50%;}#sk-container-id-9 div.sk-parallel-item:only-child::after {width: 0;}#sk-container-id-9 div.sk-dashed-wrapped {border: 1px dashed gray;margin: 0 0.4em 0.5em 0.4em;box-sizing: border-box;padding-bottom: 0.4em;background-color: white;}#sk-container-id-9 div.sk-label label {font-family: monospace;font-weight: bold;display: inline-block;line-height: 1.2em;}#sk-container-id-9 div.sk-label-container {text-align: center;}#sk-container-id-9 div.sk-container {/* jupyter's `normalize.less` sets `[hidden] { display: none; }` but bootstrap.min.css set `[hidden] { display: none !important; }` so we also need the `!important` here to be able to override the default hidden behavior on the sphinx rendered scikit-learn.org. See: https://github.com/scikit-learn/scikit-learn/issues/21755 */display: inline-block !important;position: relative;}#sk-container-id-9 div.sk-text-repr-fallback {display: none;}</style><div id=\"sk-container-id-9\" class=\"sk-top-container\"><div class=\"sk-text-repr-fallback\"><pre>RandomForestRegressor(max_depth=25, random_state=0)</pre><b>In a Jupyter environment, please rerun this cell to show the HTML representation or trust the notebook. <br />On GitHub, the HTML representation is unable to render, please try loading this page with nbviewer.org.</b></div><div class=\"sk-container\" hidden><div class=\"sk-item\"><div class=\"sk-estimator sk-toggleable\"><input class=\"sk-toggleable__control sk-hidden--visually\" id=\"sk-estimator-id-9\" type=\"checkbox\" checked><label for=\"sk-estimator-id-9\" class=\"sk-toggleable__label sk-toggleable__label-arrow\">RandomForestRegressor</label><div class=\"sk-toggleable__content\"><pre>RandomForestRegressor(max_depth=25, random_state=0)</pre></div></div></div></div></div>"
      ],
      "text/plain": [
       "RandomForestRegressor(max_depth=25, random_state=0)"
      ]
     },
     "execution_count": 194,
     "metadata": {},
     "output_type": "execute_result"
    }
   ],
   "source": [
    "# Using Random Forest Regression Model\n",
    "from sklearn.ensemble import RandomForestRegressor\n",
    "from sklearn.datasets import make_regression\n",
    "forestModel = RandomForestRegressor(max_depth=25, random_state=0)\n",
    "forestModel.fit(x_train, y_train)"
   ]
  },
  {
   "cell_type": "code",
   "execution_count": 195,
   "metadata": {
    "id": "aLf8T5dvUwTW"
   },
   "outputs": [],
   "source": [
    "# Predicting Data Using Random Forest Model\n",
    "preds_randomForest = forestModel.predict(x_test)"
   ]
  },
  {
   "cell_type": "code",
   "execution_count": 196,
   "metadata": {
    "colab": {
     "base_uri": "https://localhost:8080/"
    },
    "id": "LrBoh0LMglYw",
    "outputId": "36d4319e-b18d-4e61-da48-eca5472ce480"
   },
   "outputs": [
    {
     "name": "stdout",
     "output_type": "stream",
     "text": [
      "Error in Random Forest Model: 3.528909151449168\n"
     ]
    }
   ],
   "source": [
    "# Printing Mean Absolute Error in Random Forest Model\n",
    "error = meanAbsoluteError(preds_randomForest,testData)\n",
    "print(f'Error in Random Forest Model: {error}')"
   ]
  },
  {
   "cell_type": "code",
   "execution_count": 197,
   "metadata": {
    "colab": {
     "base_uri": "https://localhost:8080/"
    },
    "id": "uZt0_EWatB-G",
    "outputId": "8f61739e-826c-4c7c-8322-d5a72a685d55"
   },
   "outputs": [
    {
     "name": "stdout",
     "output_type": "stream",
     "text": [
      "Accuracy of Random Forest Regressor : 87.68%\n"
     ]
    }
   ],
   "source": [
    "# Accuracy of Random Forest Regression Model\n",
    "print(f'Accuracy of Random Forest Regressor : {(forestModel.score(x_test,y_test)*100):.2f}%')"
   ]
  },
  {
   "cell_type": "code",
   "execution_count": 198,
   "metadata": {
    "colab": {
     "base_uri": "https://localhost:8080/",
     "height": 469
    },
    "id": "p7RY1S2ThaRy",
    "outputId": "fe925a1d-dccd-49fc-86ee-4785349e1f8c"
   },
   "outputs": [
    {
     "data": {
      "text/plain": [
       "<matplotlib.legend.Legend at 0x7fa1efaf7610>"
      ]
     },
     "execution_count": 198,
     "metadata": {},
     "output_type": "execute_result"
    },
    {
     "data": {
      "image/png": "[encoded data removed]",
      "text/plain": [
       "<Figure size 640x480 with 1 Axes>"
      ]
     },
     "metadata": {},
     "output_type": "display_data"
    }
   ],
   "source": [
    "# Plotting Actual v/s Predicted Data Using Random Forest Model\n",
    "plotData = testData\n",
    "plotData['preds'] = preds_randomForest\n",
    "plt.plot(plotData.index, plotData['gap'], color='blue', label='Actual')\n",
    "plt.plot(plotData.index, plotData['preds'], color='green', label='Predicted')\n",
    "plt.title('Actual v/s Predicted Values (Random Forest Regression Model)')\n",
    "plt.legend()"
   ]
  },
  {
   "cell_type": "code",
   "execution_count": 201,
   "metadata": {
    "colab": {
     "base_uri": "https://localhost:8080/",
     "height": 472
    },
    "id": "bypcwXLmWp0q",
    "outputId": "f0bf9aa9-ebae-45b8-c3fd-3e0c826f1f59"
   },
   "outputs": [
    {
     "data": {
      "image/png": "[encoded data removed]",
      "text/plain": [
       "<Figure size 640x480 with 1 Axes>"
      ]
     },
     "metadata": {},
     "output_type": "display_data"
    }
   ],
   "source": [
    "# Plotting Learning Curve for Random Forest Regression\n",
    "from sklearn.model_selection import learning_curve\n",
    "train_sizes, train_scores, test_scores = learning_curve(forestModel, x_train, y_train, cv=5, scoring='neg_mean_absolute_error', train_sizes=np.linspace(0.1, 1.0, 10))\n",
    "plot_learning_curve(train_sizes, train_scores, test_scores, 'Learning Curve for Random Forest Model')"
   ]
  },
  {
   "cell_type": "code",
   "execution_count": 199,
   "metadata": {
    "colab": {
     "base_uri": "https://localhost:8080/",
     "height": 582
    },
    "id": "L5lTb4Q41WXc",
    "outputId": "3c68e7f2-11f3-4445-bd49-7c2b1f9fe0b2"
   },
   "outputs": [
    {
     "data": {
      "image/png": "[encoded data removed]",
      "text/plain": [
       "<Figure size 640x480 with 1 Axes>"
      ]
     },
     "metadata": {},
     "output_type": "display_data"
    }
   ],
   "source": [
    "# Model Comparison (Accuracy)\n",
    "x = ['Linear Regression', 'Decision Tree', 'Random Forest']\n",
    "y = [linRegression.score(x_test,y_test), decTree.score(x_test,y_test), forestModel.score(x_test,y_test) ]\n",
    "fig = plt.figure()\n",
    "ax = fig.add_axes([0,0,1,1])\n",
    "plt.xlabel('Models')\n",
    "plt.ylabel('Accuracy')\n",
    "plt.title('Comparing Accuracy of Different Models For Demand-Supply Prediction')\n",
    "ax.bar(x,y,color='red')\n",
    "plt.show()"
   ]
  },
  {
   "cell_type": "code",
   "execution_count": 200,
   "metadata": {
    "colab": {
     "base_uri": "https://localhost:8080/",
     "height": 582
    },
    "id": "UXb08d57DdQP",
    "outputId": "5e16bf03-e495-44a9-f288-2d23d41b16e4"
   },
   "outputs": [
    {
     "data": {
      "image/png": "[encoded data removed]",
      "text/plain": [
       "<Figure size 640x480 with 1 Axes>"
      ]
     },
     "metadata": {},
     "output_type": "display_data"
    }
   ],
   "source": [
    "# Model Comparison (Error)\n",
    "x = ['Linear Regression', 'Decision Tree', 'Random Forest']\n",
    "y = [meanAbsoluteError(preds_linearR,testData), meanAbsoluteError(preds_decTree,testData), meanAbsoluteError(preds_randomForest,testData) ]\n",
    "fig = plt.figure()\n",
    "ax = fig.add_axes([0,0,1,1])\n",
    "plt.xlabel('Models')\n",
    "plt.ylabel('Accuracy')\n",
    "plt.title('Comparing Error in Different Models For Demand-Supply Prediction')\n",
    "ax.bar(x,y,color='red')\n",
    "plt.show()"
   ]
  }
 ],
 "metadata": {
  "colab": {
   "provenance": []
  },
  "kernelspec": {
   "display_name": "Python 3 (ipykernel)",
   "language": "python",
   "name": "python3"
  },
  "language_info": {
   "codemirror_mode": {
    "name": "ipython",
    "version": 3
   },
   "file_extension": ".py",
   "mimetype": "text/x-python",
   "name": "python",
   "nbconvert_exporter": "python",
   "pygments_lexer": "ipython3",
   "version": "3.11.3"
  }
 },
 "nbformat": 4,
 "nbformat_minor": 1
}
